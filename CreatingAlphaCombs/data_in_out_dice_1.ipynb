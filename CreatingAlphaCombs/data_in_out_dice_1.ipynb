{
 "cells": [
  {
   "cell_type": "code",
   "execution_count": 5,
   "metadata": {},
   "outputs": [
    {
     "name": "stderr",
     "output_type": "stream",
     "text": [
      "In /home/akshartamal/anaconda3/lib/python3.7/site-packages/matplotlib/mpl-data/stylelib/_classic_test.mplstyle: \n",
      "The text.latex.unicode rcparam was deprecated in Matplotlib 3.0 and will be removed in 3.2.\n",
      "In /home/akshartamal/anaconda3/lib/python3.7/site-packages/matplotlib/mpl-data/stylelib/_classic_test.mplstyle: \n",
      "The savefig.frameon rcparam was deprecated in Matplotlib 3.1 and will be removed in 3.3.\n",
      "In /home/akshartamal/anaconda3/lib/python3.7/site-packages/matplotlib/mpl-data/stylelib/_classic_test.mplstyle: \n",
      "The pgf.debug rcparam was deprecated in Matplotlib 3.0 and will be removed in 3.2.\n",
      "In /home/akshartamal/anaconda3/lib/python3.7/site-packages/matplotlib/mpl-data/stylelib/_classic_test.mplstyle: \n",
      "The verbose.level rcparam was deprecated in Matplotlib 3.1 and will be removed in 3.3.\n",
      "In /home/akshartamal/anaconda3/lib/python3.7/site-packages/matplotlib/mpl-data/stylelib/_classic_test.mplstyle: \n",
      "The verbose.fileo rcparam was deprecated in Matplotlib 3.1 and will be removed in 3.3.\n"
     ]
    }
   ],
   "source": [
    "#Import Modules\n",
    "\n",
    "# #GPyOpt - Cases are important, for some reason\n",
    "# import GPyOpt\n",
    "# from GPyOpt.methods import BayesianOptimization\n",
    "\n",
    "#numpy\n",
    "import numpy as np\n",
    "from numpy.random import multivariate_normal #For later example\n",
    "\n",
    "import pandas as pd\n",
    "\n",
    "#Plotting tools\n",
    "from mpl_toolkits.mplot3d import Axes3D\n",
    "import matplotlib.pyplot as plt\n",
    "from matplotlib import cm\n",
    "from matplotlib.ticker import LinearLocator, FormatStrFormatter\n",
    "import numpy as np\n",
    "from numpy.random import multivariate_normal\n",
    "\n",
    "# # --- Load GPyOpt\n",
    "# from GPyOpt.methods import BayesianOptimization\n",
    "# %pylab inline\n",
    "# import GPyOpt\n",
    "# import GPy\n",
    "import numpy as np\n",
    "import pickle"
   ]
  },
  {
   "cell_type": "code",
   "execution_count": 103,
   "metadata": {},
   "outputs": [],
   "source": [
    "\n",
    "def f(x):\n",
    "    \"\"\"\n",
    "    x is a 4D vector.\n",
    "    Function which will send alpha_1, alpha_2, alpha_3 and alpha_4 \n",
    "    to the actual model and will get the dice coefficient in return.\n",
    "    \"\"\"\n",
    "    print(x)\n",
    "    alpha_1 = x[:, 0][0]\n",
    "    alpha_2 = x[:, 1][0]\n",
    "    alpha_3 = x[:, 2][0]\n",
    "    alpha_4 = x[:, 3][0]\n",
    "    print(\"--------\",alpha_1,\" \",alpha_2,\" \",alpha_3,\" \",alpha_4)\n",
    "    print(alpha_1+alpha_2+alpha_3+alpha_4)\n",
    "    # Here we will send the alphas to the actual model and in return \n",
    "    # we will recieve the dice coefficient to optimise, since this is\n",
    "    # a maximization problem, we return the -ve of objective function\n",
    "    # to be maximized\n",
    "    dice_coef = alpha_1 + alpha_2 + alpha_3 + alpha_4\n",
    "    return -dice_coef\n",
    "    \n",
    "\n",
    "domain = [{'name': 'alpha_1', 'type': 'continuous', 'domain': (0,1), 'dimensionality':1},\n",
    "          {'name': 'alpha_2', 'type': 'continuous', 'domain': (0,1), 'dimensionality':1},\n",
    "          {'name': 'alpha_3', 'type': 'continuous', 'domain': (0,1), 'dimensionality':1},\n",
    "          {'name': 'alpha_4', 'type': 'continuous', 'domain': (0,1), 'dimensionality':1}]\n",
    "\n",
    "constraints = [{'name': 'constr_1', 'constraint': '0.9999 - x[:,0] - x[:,1] - x[:,2] - x[:,3]'},\n",
    "               {'name': 'constr_1', 'constraint': '-1.00001 + x[:,0] + x[:,1] + x[:,2] + x[:,3]'}]"
   ]
  },
  {
   "cell_type": "code",
   "execution_count": null,
   "metadata": {},
   "outputs": [],
   "source": [
    "\n",
    "\n"
   ]
  },
  {
   "cell_type": "code",
   "execution_count": 8,
   "metadata": {},
   "outputs": [],
   "source": [
    "def load_entire_file_into_memory_and_then_convert(filename):\n",
    "    with open(filename, 'r') as input_file:\n",
    "        full_file_contents = input_file.read()\n",
    "        lines_of_file = full_file_contents.split('\\n')\n",
    "        return np.array(lines_of_file)"
   ]
  },
  {
   "cell_type": "code",
   "execution_count": 9,
   "metadata": {},
   "outputs": [
    {
     "data": {
      "text/plain": [
       "array(['0.08 0.21 0.41 0.29 0.8204611565826954 0.7294653047374877 0.5984979476118675 ',\n",
       "       '0.29 0.05 0.54 0.11 0.8072160317661081 0.7155189802126833 0.5775783918606147 ',\n",
       "       '0.29 0.0 0.01 0.69 0.812904026950075 0.7167761088267817 0.5826701852868961 ',\n",
       "       '0.74 0.11 0.06 0.09 0.8100668303113453 0.7124475283110303 0.5771301110220688 ',\n",
       "       '0.71 0.11 0.12 0.05 0.8104434808833403 0.7125621277941039 0.5774913311950931 ',\n",
       "       '0.53 0.06 0.3 0.1 0.8108956103898957 0.715345636662372 0.5800706366810827 ',\n",
       "       '0.0 0.45 0.42 0.12 0.8206900487797066 0.7299970391456998 0.5991013056655258 ',\n",
       "       '0.13 0.21 0.57 0.08 0.8091234585961964 0.7204843376780048 0.5829607791664171 ',\n",
       "       '0.62 0.01 0.24 0.12 0.8076005842559397 0.7082406354839689 0.5719755510106513 ',\n",
       "       '0.09 0.22 0.37 0.31 0.8099462899218561 0.7205992058774199 0.583646653321052 ',\n",
       "       '0.09 0.16 0.43 0.31 0.8100357922720149 0.720253083004172 0.5834307767276458 ',\n",
       "       '0.28 0.09 0.41 0.21 0.8086312020482245 0.7179402326876485 0.5805488733569952 ',\n",
       "       '0.1 0.0 0.44 0.45 0.8193557369939025 0.7278561666370527 0.596373125840459 ',\n",
       "       '0.04 0.02 0.54 0.39 0.8009982424757108 0.7078583635861827 0.566993305154265 ',\n",
       "       '0.19 0.42 0.31 0.08 0.8266801768654775 0.7373330466199706 0.6095386133885586 ',\n",
       "       '0.19 0.12 0.6 0.09 0.8085115835157349 0.7158993911275031 0.578812950358448 ',\n",
       "       '0.0 0.64 0.1 0.25 0.8205831720089396 0.7315580583272379 0.6003042320108657 ',\n",
       "       '0.4 0.3 0.08 0.21 0.8227105683431521 0.7314193822964137 0.6017464557062798 ',\n",
       "       '0.22 0.37 0.16 0.24 0.831154809199834 0.7424913417470371 0.6171252494822874 ',\n",
       "       '0.52 0.19 0.24 0.04 0.8149311654118148 0.7199295354481415 0.5866930153371404 ',\n",
       "       '0.25 0.0 0.62 0.12 0.8129667417676453 0.722258382481588 0.5871720439204263 ',\n",
       "       '0.14 0.5 0.07 0.28 0.8152373463176902 0.7226645427361245 0.5891431240980851 ',\n",
       "       '0.41 0.21 0.35 0.02 0.8272360270944624 0.7377363839374206 0.6102821152914267 ',\n",
       "       '0.06 0.54 0.27 0.12 0.8245062785040629 0.7360466481791794 0.6068750826956045 ',\n",
       "       '0.09 0.05 0.13 0.72 0.8097271462891671 0.7177602343570693 0.5811899462857935 ',\n",
       "       '0.08 0.32 0.22 0.37 0.8234403352918639 0.7346702557685989 0.6049571217390545 ',\n",
       "       '0.31 0.59 0.02 0.07 0.80947735493417 0.7158706290438406 0.5794810632734685 ',\n",
       "       '0.1 0.73 0.08 0.08 0.8227825677374812 0.7320591368483119 0.6023254963517382 ',\n",
       "       '0.78 0.08 0.05 0.08 0.804259875572451 0.704800915494197 0.5668430965987125 ',\n",
       "       '0.0 0.52 0.32 0.15 0.8175703398525815 0.7256961837154989 0.593307675550002 ',\n",
       "       '0.47 0.25 0.01 0.26 0.8097064677801452 0.7134428125623252 0.5776792597229725 ',\n",
       "       '0.26 0.08 0.29 0.36 0.8153105433748996 0.7246104502232884 0.59078253990668 ',\n",
       "       '0.25 0.26 0.33 0.15 0.8216746781701895 0.7324706583812276 0.601852592494502 ',\n",
       "       '0.1 0.37 0.18 0.35 0.8237941031093559 0.7356496684794698 0.6060238588477398 ',\n",
       "       '0.55 0.14 0.04 0.26 0.8035505826911331 0.7027524015178932 0.5646971017272963 ',\n",
       "       '0.08 0.27 0.33 0.31 0.808870292118628 0.7158947868468152 0.5790660253629863 ',\n",
       "       '0.04 0.12 0.22 0.61 0.813900743172872 0.7247558653876621 0.5898793374579162 ',\n",
       "       '0.36 0.07 0.53 0.03 0.8096992995274942 0.720771554776569 0.5836082230219308 ',\n",
       "       '0.07 0.47 0.03 0.42 0.8154589634746824 0.7241068286175608 0.5904794039094157 ',\n",
       "       '0.06 0.22 0.15 0.56 0.8191245489861355 0.729436285638368 0.5974991684876502 ',\n",
       "       '0.06 0.22 0.15 0.56 0.8189745633087672 0.7269392135604689 0.5953447249777036 ',\n",
       "       '0.41 0.28 0.21 0.1 0.8245985802368955 0.7365024772888776 0.6073188971133648 ',\n",
       "       '0.12 0.21 0.47 0.19 0.8130301933649718 0.725022913569866 0.5894655196137435 ',\n",
       "       '0.1 0.37 0.18 0.35 0.8239966883780372 0.7344011250037236 0.6051440949441731 ',\n",
       "       '0.07 0.06 0.61 0.25 0.8205667596461852 0.7308110040709448 0.5996792175242702 ',\n",
       "       '0.08 0.57 0.18 0.16 0.8155231537063583 0.7246957996128618 0.5910062039780322 ',\n",
       "       '0.39 0.03 0.17 0.4 0.8190233916135927 0.72593300808715 0.5945561143677952 ',\n",
       "       '0.0 0.34 0.65 0.0 0.810618993013129 0.7187922909390637 0.5826666830666238 ',\n",
       "       '0.06 0.12 0.49 0.32 0.8017904352296934 0.7119653452271637 0.5708470040181465 ',\n",
       "       '0.02 0.21 0.56 0.2 0.8117559693475884 0.7213889384594658 0.5855917770157915 ',\n",
       "       '0.0 0.61 0.14 0.24 0.8215768363317727 0.7328532497288001 0.6020952544076461 ',\n",
       "       '0.28 0.03 0.26 0.42 0.8056639037205284 0.7125072792176864 0.5740413960038138 ',\n",
       "       '0.03 0.3 0.24 0.42 0.8065863824057484 0.7152272977263558 0.5768925986709406 ',\n",
       "       ''], dtype='<U77')"
      ]
     },
     "execution_count": 9,
     "metadata": {},
     "output_type": "execute_result"
    }
   ],
   "source": [
    "dump = load_entire_file_into_memory_and_then_convert('bayesian_opt.txt')\n",
    "dump"
   ]
  },
  {
   "cell_type": "code",
   "execution_count": 10,
   "metadata": {},
   "outputs": [],
   "source": [
    "X = []\n",
    "Y = []\n",
    "for item in dump[:-1]:\n",
    "    all_items = item.split(' ')\n",
    "    X.append([float(i) for i in all_items[:4]]) \n",
    "    Y.append(float(all_items[-2]))\n",
    "    "
   ]
  },
  {
   "cell_type": "code",
   "execution_count": 12,
   "metadata": {},
   "outputs": [
    {
     "data": {
      "text/plain": [
       "array([[0.08, 0.21, 0.41, 0.29],\n",
       "       [0.29, 0.05, 0.54, 0.11],\n",
       "       [0.29, 0.  , 0.01, 0.69],\n",
       "       [0.74, 0.11, 0.06, 0.09],\n",
       "       [0.71, 0.11, 0.12, 0.05],\n",
       "       [0.53, 0.06, 0.3 , 0.1 ],\n",
       "       [0.  , 0.45, 0.42, 0.12],\n",
       "       [0.13, 0.21, 0.57, 0.08],\n",
       "       [0.62, 0.01, 0.24, 0.12],\n",
       "       [0.09, 0.22, 0.37, 0.31],\n",
       "       [0.09, 0.16, 0.43, 0.31],\n",
       "       [0.28, 0.09, 0.41, 0.21],\n",
       "       [0.1 , 0.  , 0.44, 0.45],\n",
       "       [0.04, 0.02, 0.54, 0.39],\n",
       "       [0.19, 0.42, 0.31, 0.08],\n",
       "       [0.19, 0.12, 0.6 , 0.09],\n",
       "       [0.  , 0.64, 0.1 , 0.25],\n",
       "       [0.4 , 0.3 , 0.08, 0.21],\n",
       "       [0.22, 0.37, 0.16, 0.24],\n",
       "       [0.52, 0.19, 0.24, 0.04],\n",
       "       [0.25, 0.  , 0.62, 0.12],\n",
       "       [0.14, 0.5 , 0.07, 0.28],\n",
       "       [0.41, 0.21, 0.35, 0.02],\n",
       "       [0.06, 0.54, 0.27, 0.12],\n",
       "       [0.09, 0.05, 0.13, 0.72],\n",
       "       [0.08, 0.32, 0.22, 0.37],\n",
       "       [0.31, 0.59, 0.02, 0.07],\n",
       "       [0.1 , 0.73, 0.08, 0.08],\n",
       "       [0.78, 0.08, 0.05, 0.08],\n",
       "       [0.  , 0.52, 0.32, 0.15],\n",
       "       [0.47, 0.25, 0.01, 0.26],\n",
       "       [0.26, 0.08, 0.29, 0.36],\n",
       "       [0.25, 0.26, 0.33, 0.15],\n",
       "       [0.1 , 0.37, 0.18, 0.35],\n",
       "       [0.55, 0.14, 0.04, 0.26],\n",
       "       [0.08, 0.27, 0.33, 0.31],\n",
       "       [0.04, 0.12, 0.22, 0.61],\n",
       "       [0.36, 0.07, 0.53, 0.03],\n",
       "       [0.07, 0.47, 0.03, 0.42],\n",
       "       [0.06, 0.22, 0.15, 0.56],\n",
       "       [0.06, 0.22, 0.15, 0.56],\n",
       "       [0.41, 0.28, 0.21, 0.1 ],\n",
       "       [0.12, 0.21, 0.47, 0.19],\n",
       "       [0.1 , 0.37, 0.18, 0.35],\n",
       "       [0.07, 0.06, 0.61, 0.25],\n",
       "       [0.08, 0.57, 0.18, 0.16],\n",
       "       [0.39, 0.03, 0.17, 0.4 ],\n",
       "       [0.  , 0.34, 0.65, 0.  ],\n",
       "       [0.06, 0.12, 0.49, 0.32],\n",
       "       [0.02, 0.21, 0.56, 0.2 ],\n",
       "       [0.  , 0.61, 0.14, 0.24],\n",
       "       [0.28, 0.03, 0.26, 0.42],\n",
       "       [0.03, 0.3 , 0.24, 0.42]])"
      ]
     },
     "execution_count": 12,
     "metadata": {},
     "output_type": "execute_result"
    }
   ],
   "source": [
    "X = np.array(X)\n",
    "X"
   ]
  },
  {
   "cell_type": "code",
   "execution_count": 13,
   "metadata": {},
   "outputs": [
    {
     "data": {
      "text/plain": [
       "(53, 4)"
      ]
     },
     "execution_count": 13,
     "metadata": {},
     "output_type": "execute_result"
    }
   ],
   "source": [
    "X.shape"
   ]
  },
  {
   "cell_type": "code",
   "execution_count": 15,
   "metadata": {},
   "outputs": [
    {
     "data": {
      "text/plain": [
       "array([-0.59849795, -0.57757839, -0.58267019, -0.57713011, -0.57749133,\n",
       "       -0.58007064, -0.59910131, -0.58296078, -0.57197555, -0.58364665,\n",
       "       -0.58343078, -0.58054887, -0.59637313, -0.56699331, -0.60953861,\n",
       "       -0.57881295, -0.60030423, -0.60174646, -0.61712525, -0.58669302,\n",
       "       -0.58717204, -0.58914312, -0.61028212, -0.60687508, -0.58118995,\n",
       "       -0.60495712, -0.57948106, -0.6023255 , -0.5668431 , -0.59330768,\n",
       "       -0.57767926, -0.59078254, -0.60185259, -0.60602386, -0.5646971 ,\n",
       "       -0.57906603, -0.58987934, -0.58360822, -0.5904794 , -0.59749917,\n",
       "       -0.59534472, -0.6073189 , -0.58946552, -0.60514409, -0.59967922,\n",
       "       -0.5910062 , -0.59455611, -0.58266668, -0.570847  , -0.58559178,\n",
       "       -0.60209525, -0.5740414 , -0.5768926 ])"
      ]
     },
     "execution_count": 15,
     "metadata": {},
     "output_type": "execute_result"
    }
   ],
   "source": [
    "Y = -np.array(Y)\n",
    "Y"
   ]
  },
  {
   "cell_type": "code",
   "execution_count": 112,
   "metadata": {},
   "outputs": [
    {
     "data": {
      "text/plain": [
       "(20, 1)"
      ]
     },
     "execution_count": 112,
     "metadata": {},
     "output_type": "execute_result"
    }
   ],
   "source": [
    "Y.shape"
   ]
  },
  {
   "cell_type": "code",
   "execution_count": 111,
   "metadata": {},
   "outputs": [
    {
     "data": {
      "text/plain": [
       "array([[-0.95914031],\n",
       "       [-0.96172594],\n",
       "       [-0.96035367],\n",
       "       [-0.95743563],\n",
       "       [-0.96022589],\n",
       "       [-0.94106186],\n",
       "       [-0.96340175],\n",
       "       [-0.96285481],\n",
       "       [-0.96225729],\n",
       "       [-0.95858635],\n",
       "       [-0.96095901],\n",
       "       [-0.95977781],\n",
       "       [-0.9400788 ],\n",
       "       [-0.94105916],\n",
       "       [-0.96109757],\n",
       "       [-0.95762963],\n",
       "       [-0.95864002],\n",
       "       [-0.9576237 ],\n",
       "       [-0.95691875],\n",
       "       [-0.95802394]])"
      ]
     },
     "execution_count": 111,
     "metadata": {},
     "output_type": "execute_result"
    }
   ],
   "source": [
    "Y = np.expand_dims(Y, axis=1)\n",
    "Y"
   ]
  },
  {
   "cell_type": "code",
   "execution_count": null,
   "metadata": {},
   "outputs": [],
   "source": [
    "Y.shape"
   ]
  },
  {
   "cell_type": "code",
   "execution_count": null,
   "metadata": {},
   "outputs": [],
   "source": []
  },
  {
   "cell_type": "code",
   "execution_count": 113,
   "metadata": {},
   "outputs": [
    {
     "name": "stdout",
     "output_type": "stream",
     "text": [
      "[[0.23070297 0.00674209 0.39912914 0.36343547]]\n",
      "-------- 0.23070296550728328   0.006742091006239273   0.39912914455401327   0.36343547111957786\n",
      "1.0000096721871137\n",
      "num acquisition: 1, time elapsed: 139.79s\n",
      "====================\n",
      "Value of (x,y) that minimises the objective:[0.23070297 0.00674209 0.39912914 0.36343547]\n",
      "Minimum value of the objective: -1.0000096721871137\n",
      "====================\n"
     ]
    }
   ],
   "source": [
    "maxiter = 1\n",
    "\n",
    "kernel = GPy.kern.Matern52(input_dim=4, ARD=True, variance=1, lengthscale=[1,1,1,1]);\n",
    "\n",
    "myBopt_4d = GPyOpt.methods.BayesianOptimization(f=f, X=X, Y=Y, domain=domain, constraints = constraints,\n",
    "                                                kernel=kernel, acquisition_type ='EI', model_type='GP', \n",
    "                                                verbosity=True, acquisition_optimizer_type='lbfgs', \n",
    "                                                cost_withGradients=None, exact_feval=True)\n",
    "\n",
    "myBopt_4d.run_optimization(max_iter = maxiter, verbosity=True)\n",
    "print(\"=\"*20)\n",
    "print(\"Value of (x,y) that minimises the objective:\"+str(myBopt_4d.x_opt))    \n",
    "print(\"Minimum value of the objective: \"+str(myBopt_4d.fx_opt))     \n",
    "print(\"=\"*20)\n",
    "#myBopt_4d.plot_acquisition()"
   ]
  },
  {
   "cell_type": "code",
   "execution_count": null,
   "metadata": {},
   "outputs": [],
   "source": []
  },
  {
   "cell_type": "code",
   "execution_count": 88,
   "metadata": {},
   "outputs": [
    {
     "data": {
      "text/plain": [
       "(6, 4)"
      ]
     },
     "execution_count": 88,
     "metadata": {},
     "output_type": "execute_result"
    }
   ],
   "source": [
    "myBopt_4d.X.shape"
   ]
  },
  {
   "cell_type": "code",
   "execution_count": 86,
   "metadata": {},
   "outputs": [
    {
     "data": {
      "text/plain": [
       "array([[-0.99990714],\n",
       "       [-0.99998241],\n",
       "       [-0.99992333],\n",
       "       [-0.99994381],\n",
       "       [-1.00000402],\n",
       "       [-0.99999817]])"
      ]
     },
     "execution_count": 86,
     "metadata": {},
     "output_type": "execute_result"
    }
   ],
   "source": [
    "myBopt_4d.Y"
   ]
  },
  {
   "cell_type": "code",
   "execution_count": null,
   "metadata": {},
   "outputs": [],
   "source": []
  }
 ],
 "metadata": {
  "kernelspec": {
   "display_name": "Python 3 (ipykernel)",
   "language": "python",
   "name": "python3"
  },
  "language_info": {
   "codemirror_mode": {
    "name": "ipython",
    "version": 3
   },
   "file_extension": ".py",
   "mimetype": "text/x-python",
   "name": "python",
   "nbconvert_exporter": "python",
   "pygments_lexer": "ipython3",
   "version": "3.8.10"
  }
 },
 "nbformat": 4,
 "nbformat_minor": 4
}
