{
 "cells": [
  {
   "cell_type": "code",
   "execution_count": 7,
   "metadata": {},
   "outputs": [],
   "source": [
    "import json\n",
    "import matplotlib.pyplot as plt\n",
    "\n",
    "with open('history_skin_drrmsan.json', 'r') as f:\n",
    "    array = json.load(f)\n",
    "#print (array)\n",
    "#print(json.dumps(array, indent=4, sort_keys=True))"
   ]
  },
  {
   "cell_type": "code",
   "execution_count": 9,
   "metadata": {},
   "outputs": [
    {
     "name": "stdout",
     "output_type": "stream",
     "text": [
      "loss\n",
      "side_6_loss\n",
      "side_7_loss\n",
      "side_8_loss\n",
      "activation_148_loss\n",
      "add_96_loss\n",
      "side_6_dice_coef\n",
      "side_6_jacard\n",
      "side_6_recall\n",
      "side_6_precision\n",
      "side_6_accuracy\n",
      "side_7_dice_coef\n",
      "side_7_jacard\n",
      "side_7_recall\n",
      "side_7_precision\n",
      "side_7_accuracy\n",
      "side_8_dice_coef\n",
      "side_8_jacard\n",
      "side_8_recall\n",
      "side_8_precision\n",
      "side_8_accuracy\n",
      "activation_148_dice_coef\n",
      "activation_148_jacard\n",
      "activation_148_recall\n",
      "activation_148_precision\n",
      "activation_148_accuracy\n",
      "add_96_dice_coef\n",
      "add_96_jacard\n",
      "add_96_recall\n",
      "add_96_precision\n",
      "add_96_accuracy\n",
      "val_loss\n",
      "val_side_6_loss\n",
      "val_side_7_loss\n",
      "val_side_8_loss\n",
      "val_activation_148_loss\n",
      "val_add_96_loss\n",
      "val_side_6_dice_coef\n",
      "val_side_6_jacard\n",
      "val_side_6_recall\n",
      "val_side_6_precision\n",
      "val_side_6_accuracy\n",
      "val_side_7_dice_coef\n",
      "val_side_7_jacard\n",
      "val_side_7_recall\n",
      "val_side_7_precision\n",
      "val_side_7_accuracy\n",
      "val_side_8_dice_coef\n",
      "val_side_8_jacard\n",
      "val_side_8_recall\n",
      "val_side_8_precision\n",
      "val_side_8_accuracy\n",
      "val_activation_148_dice_coef\n",
      "val_activation_148_jacard\n",
      "val_activation_148_recall\n",
      "val_activation_148_precision\n",
      "val_activation_148_accuracy\n",
      "val_add_96_dice_coef\n",
      "val_add_96_jacard\n",
      "val_add_96_recall\n",
      "val_add_96_precision\n",
      "val_add_96_accuracy\n",
      "lr\n"
     ]
    }
   ],
   "source": [
    "for item in array:\n",
    "    print(item)"
   ]
  },
  {
   "cell_type": "code",
   "execution_count": 10,
   "metadata": {},
   "outputs": [
    {
     "name": "stdout",
     "output_type": "stream",
     "text": [
      "val_side_6_dice_coef\n",
      "val_side_7_dice_coef\n",
      "val_side_8_dice_coef\n",
      "val_activation_148_dice_coef\n",
      "val_add_96_dice_coef\n"
     ]
    }
   ],
   "source": [
    "for item in array:\n",
    "    if 'val' in item and 'dice' in item:\n",
    "        print(item)"
   ]
  },
  {
   "cell_type": "code",
   "execution_count": 11,
   "metadata": {},
   "outputs": [
    {
     "data": {
      "text/plain": [
       "0.5793148875"
      ]
     },
     "execution_count": 11,
     "metadata": {},
     "output_type": "execute_result"
    }
   ],
   "source": [
    "array['val_add_96_dice_coef']['149']"
   ]
  },
  {
   "cell_type": "code",
   "execution_count": 17,
   "metadata": {},
   "outputs": [
    {
     "data": {
      "text/plain": [
       "0.5278072357"
      ]
     },
     "execution_count": 17,
     "metadata": {},
     "output_type": "execute_result"
    }
   ],
   "source": [
    "array['val_activation_148_dice_coef']['149']"
   ]
  },
  {
   "cell_type": "code",
   "execution_count": 13,
   "metadata": {},
   "outputs": [
    {
     "data": {
      "text/plain": [
       "0.846652627"
      ]
     },
     "execution_count": 13,
     "metadata": {},
     "output_type": "execute_result"
    }
   ],
   "source": [
    "array['val_side_8_dice_coef']['149']"
   ]
  },
  {
   "cell_type": "code",
   "execution_count": 14,
   "metadata": {},
   "outputs": [
    {
     "data": {
      "text/plain": [
       "0.8594266772"
      ]
     },
     "execution_count": 14,
     "metadata": {},
     "output_type": "execute_result"
    }
   ],
   "source": [
    "array['val_side_7_dice_coef']['149']"
   ]
  },
  {
   "cell_type": "code",
   "execution_count": 15,
   "metadata": {},
   "outputs": [
    {
     "data": {
      "text/plain": [
       "0.85357517"
      ]
     },
     "execution_count": 15,
     "metadata": {},
     "output_type": "execute_result"
    }
   ],
   "source": [
    "array['val_side_6_dice_coef']['149']"
   ]
  },
  {
   "cell_type": "code",
   "execution_count": null,
   "metadata": {},
   "outputs": [],
   "source": []
  },
  {
   "cell_type": "code",
   "execution_count": null,
   "metadata": {},
   "outputs": [],
   "source": []
  },
  {
   "cell_type": "code",
   "execution_count": 3,
   "metadata": {},
   "outputs": [
    {
     "ename": "KeyError",
     "evalue": "'dice_coef'",
     "output_type": "error",
     "traceback": [
      "\u001b[0;31m---------------------------------------------------------------------------\u001b[0m",
      "\u001b[0;31mKeyError\u001b[0m                                  Traceback (most recent call last)",
      "\u001b[0;32m<ipython-input-3-1a341243590b>\u001b[0m in \u001b[0;36m<module>\u001b[0;34m\u001b[0m\n\u001b[1;32m      1\u001b[0m \u001b[0mdice_coef\u001b[0m \u001b[0;34m=\u001b[0m \u001b[0;34m[\u001b[0m\u001b[0;34m]\u001b[0m\u001b[0;34m\u001b[0m\u001b[0;34m\u001b[0m\u001b[0m\n\u001b[0;32m----> 2\u001b[0;31m \u001b[0;32mfor\u001b[0m \u001b[0mitem\u001b[0m \u001b[0;32min\u001b[0m \u001b[0marray\u001b[0m\u001b[0;34m[\u001b[0m\u001b[0;34m'dice_coef'\u001b[0m\u001b[0;34m]\u001b[0m\u001b[0;34m:\u001b[0m\u001b[0;34m\u001b[0m\u001b[0;34m\u001b[0m\u001b[0m\n\u001b[0m\u001b[1;32m      3\u001b[0m   \u001b[0mdice_coef\u001b[0m\u001b[0;34m.\u001b[0m\u001b[0mappend\u001b[0m\u001b[0;34m(\u001b[0m\u001b[0marray\u001b[0m\u001b[0;34m[\u001b[0m\u001b[0;34m'dice_coef'\u001b[0m\u001b[0;34m]\u001b[0m\u001b[0;34m[\u001b[0m\u001b[0mitem\u001b[0m\u001b[0;34m]\u001b[0m\u001b[0;34m)\u001b[0m\u001b[0;34m\u001b[0m\u001b[0;34m\u001b[0m\u001b[0m\n\u001b[1;32m      4\u001b[0m \u001b[0mval_dice_coef\u001b[0m \u001b[0;34m=\u001b[0m \u001b[0;34m[\u001b[0m\u001b[0;34m]\u001b[0m\u001b[0;34m\u001b[0m\u001b[0;34m\u001b[0m\u001b[0m\n\u001b[1;32m      5\u001b[0m \u001b[0;32mfor\u001b[0m \u001b[0mitem\u001b[0m \u001b[0;32min\u001b[0m \u001b[0marray\u001b[0m\u001b[0;34m[\u001b[0m\u001b[0;34m'val_dice_coef'\u001b[0m\u001b[0;34m]\u001b[0m\u001b[0;34m:\u001b[0m\u001b[0;34m\u001b[0m\u001b[0;34m\u001b[0m\u001b[0m\n",
      "\u001b[0;31mKeyError\u001b[0m: 'dice_coef'"
     ]
    }
   ],
   "source": [
    "# dice_coef = []\n",
    "# for item in array['dice_coef']:\n",
    "#   dice_coef.append(array['dice_coef'][item])\n",
    "val_dice_coef = []\n",
    "for item in array['val_add_96_dice_coef']:\n",
    "  val_dice_coef.append(array['val_add_96_dice_coef'][item])\n",
    "#print(accuracy)"
   ]
  },
  {
   "cell_type": "code",
   "execution_count": null,
   "metadata": {},
   "outputs": [],
   "source": []
  }
 ],
 "metadata": {
  "kernelspec": {
   "display_name": "Python 3",
   "language": "python",
   "name": "python3"
  },
  "language_info": {
   "codemirror_mode": {
    "name": "ipython",
    "version": 3
   },
   "file_extension": ".py",
   "mimetype": "text/x-python",
   "name": "python",
   "nbconvert_exporter": "python",
   "pygments_lexer": "ipython3",
   "version": "3.8.5"
  }
 },
 "nbformat": 4,
 "nbformat_minor": 4
}
