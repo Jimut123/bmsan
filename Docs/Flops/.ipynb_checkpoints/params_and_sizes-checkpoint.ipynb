{
 "cells": [
  {
   "cell_type": "code",
   "execution_count": null,
   "metadata": {},
   "outputs": [],
   "source": [
    "\"\"\"\n",
    "# Of Params\n",
    "\n",
    "AttnR2UNET  =  96,509,863\n",
    "AttnUNet = 31,902,759\n",
    "MultiResUNet = 7,238,228\n",
    "OriginalUNet = 31,379,075\n",
    "R2UNet = 95,986,179\n",
    "Modified_UNet = 1,203,649\n",
    "\n",
    "\"\"\"\n",
    "\"\"\"\n",
    "# Sizes in MB\n",
    "\n",
    "AttnR2UNET  = 369M  \n",
    "AttnUNet = 122M\n",
    "MultiResUNet = 29M  \n",
    "OriginalUNet = 120M\n",
    "R2UNet = 367M\n",
    "Modified_UNet = 5.0M\n",
    "\n",
    "\"\"\"\n"
   ]
  },
  {
   "cell_type": "code",
   "execution_count": null,
   "metadata": {},
   "outputs": [],
   "source": [
    "import numpy as np\n",
    "import matplotlib.mlab as mlab\n",
    "import matplotlib.pyplot as plt\n",
    "\n",
    "x = [21,22,23,4,5,6,77,8,9,10,31,32,33,34,35,36,37,18,49,50,100]\n",
    "num_bins = 5\n",
    "n, bins, patches = plt.hist(x, num_bins, facecolor='blue', alpha=0.5)\n",
    "plt.show()"
   ]
  },
  {
   "cell_type": "code",
   "execution_count": null,
   "metadata": {},
   "outputs": [],
   "source": []
  }
 ],
 "metadata": {
  "kernelspec": {
   "display_name": "Python 3",
   "language": "python",
   "name": "python3"
  },
  "language_info": {
   "codemirror_mode": {
    "name": "ipython",
    "version": 3
   },
   "file_extension": ".py",
   "mimetype": "text/x-python",
   "name": "python",
   "nbconvert_exporter": "python",
   "pygments_lexer": "ipython3",
   "version": "3.8.5"
  }
 },
 "nbformat": 4,
 "nbformat_minor": 4
}
