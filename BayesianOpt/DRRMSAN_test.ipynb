{
 "cells": [
  {
   "cell_type": "code",
   "execution_count": 11,
   "metadata": {},
   "outputs": [],
   "source": [
    "import numpy as np, numpy.random\n",
    "import pickle"
   ]
  },
  {
   "cell_type": "code",
   "execution_count": 3,
   "metadata": {},
   "outputs": [
    {
     "name": "stdout",
     "output_type": "stream",
     "text": [
      "case =  1   0.4 0.24 0.08 0.29\n",
      "1.01\n",
      "case =  2   0.37 0.47 0.15 0.01\n",
      "1.0\n",
      "case =  3   0.42 0.02 0.12 0.44\n",
      "1.0\n",
      "case =  4   0.31 0.2 0.18 0.31\n",
      "1.0\n",
      "case =  5   0.56 0.18 0.17 0.09\n",
      "1.0\n",
      "case =  6   0.31 0.53 0.08 0.09\n",
      "1.01\n",
      "case =  7   0.14 0.09 0.01 0.76\n",
      "1.0\n",
      "case =  8   0.38 0.49 0.1 0.04\n",
      "1.01\n",
      "case =  9   0.34 0.43 0.11 0.11\n",
      "0.99\n",
      "case =  10   0.17 0.08 0.24 0.51\n",
      "1.0\n",
      "case =  11   0.01 0.59 0.38 0.02\n",
      "1.0\n",
      "case =  12   0.47 0.02 0.47 0.03\n",
      "0.99\n",
      "case =  13   0.04 0.06 0.13 0.77\n",
      "1.0\n",
      "case =  14   0.32 0.04 0.51 0.13\n",
      "1.0\n",
      "case =  15   0.11 0.09 0.03 0.76\n",
      "0.99\n",
      "case =  16   0.37 0.28 0.0 0.35\n",
      "1.0\n",
      "case =  17   0.28 0.15 0.13 0.45\n",
      "1.01\n",
      "case =  18   0.2 0.1 0.02 0.68\n",
      "1.0\n",
      "case =  19   0.06 0.15 0.41 0.37\n",
      "0.99\n",
      "case =  20   0.18 0.64 0.13 0.05\n",
      "1.0\n"
     ]
    }
   ],
   "source": [
    "# Generating Cases\n",
    "alpha_datas = []\n",
    "for i in range(20):\n",
    "    alphas = np.random.dirichlet(np.ones(4),size=1)\n",
    "    alpha_datas.append(alphas)\n",
    "    print(\"case = \", i+1, \" \", float(\"%0.2f\" % (alphas[0][0])), \n",
    "          float(\"%0.2f\" % (alphas[0][1])), float(\"%0.2f\" % (alphas[0][2])), float(\"%0.2f\" % (alphas[0][3])))\n",
    "    print(float(\"%0.2f\" % (alphas[0][0]))+float(\"%0.2f\" % (alphas[0][1]))+float(\"%0.2f\" % (alphas[0][2]))+float(\"%0.2f\" % (alphas[0][3])))"
   ]
  },
  {
   "cell_type": "code",
   "execution_count": null,
   "metadata": {},
   "outputs": [],
   "source": [
    "# inp => alpha_1, alpha_2, alpha_3 and alpha_4 to the function \n",
    "# the function will return dice coef values, and we need to find \n",
    "# the alphas which maximizes the dice coef values."
   ]
  },
  {
   "cell_type": "code",
   "execution_count": 9,
   "metadata": {},
   "outputs": [
    {
     "data": {
      "text/plain": [
       "[array([[0.39891469, 0.23577671, 0.07564421, 0.28966438]]),\n",
       " array([[0.36878121, 0.47341166, 0.14817254, 0.00963458]]),\n",
       " array([[0.42246312, 0.0224608 , 0.11758933, 0.43748676]]),\n",
       " array([[0.31341021, 0.20044301, 0.17961627, 0.30653051]]),\n",
       " array([[0.5570836 , 0.18162502, 0.16668195, 0.09460943]]),\n",
       " array([[0.30656411, 0.53031091, 0.07780486, 0.08532012]]),\n",
       " array([[0.13835468, 0.08963897, 0.0144104 , 0.75759595]]),\n",
       " array([[0.3759122 , 0.48788657, 0.09700522, 0.039196  ]]),\n",
       " array([[0.33842613, 0.43365869, 0.11443579, 0.11347938]]),\n",
       " array([[0.16998547, 0.08050855, 0.24309576, 0.50641023]]),\n",
       " array([[0.01050173, 0.5944783 , 0.37905571, 0.01596426]]),\n",
       " array([[0.47338145, 0.02454448, 0.47402381, 0.02805027]]),\n",
       " array([[0.03991346, 0.05932248, 0.13488015, 0.76588391]]),\n",
       " array([[0.32363558, 0.03908431, 0.50548237, 0.13179774]]),\n",
       " array([[0.1142189 , 0.08858075, 0.03318612, 0.76401422]]),\n",
       " array([[0.36758272, 0.28230737, 0.0004801 , 0.34962981]]),\n",
       " array([[0.28038329, 0.14695279, 0.12677928, 0.44588464]]),\n",
       " array([[0.20071928, 0.10149983, 0.01776489, 0.68001599]]),\n",
       " array([[0.06376579, 0.1512234 , 0.41208041, 0.3729304 ]]),\n",
       " array([[0.17771764, 0.64133284, 0.1339571 , 0.04699242]])]"
      ]
     },
     "execution_count": 9,
     "metadata": {},
     "output_type": "execute_result"
    }
   ],
   "source": [
    "alpha_datas"
   ]
  },
  {
   "cell_type": "code",
   "execution_count": 12,
   "metadata": {},
   "outputs": [
    {
     "data": {
      "text/plain": [
       "[array([[0.39891469, 0.23577671, 0.07564421, 0.28966438]]),\n",
       " array([[0.36878121, 0.47341166, 0.14817254, 0.00963458]]),\n",
       " array([[0.42246312, 0.0224608 , 0.11758933, 0.43748676]]),\n",
       " array([[0.31341021, 0.20044301, 0.17961627, 0.30653051]]),\n",
       " array([[0.5570836 , 0.18162502, 0.16668195, 0.09460943]]),\n",
       " array([[0.30656411, 0.53031091, 0.07780486, 0.08532012]]),\n",
       " array([[0.13835468, 0.08963897, 0.0144104 , 0.75759595]]),\n",
       " array([[0.3759122 , 0.48788657, 0.09700522, 0.039196  ]]),\n",
       " array([[0.33842613, 0.43365869, 0.11443579, 0.11347938]]),\n",
       " array([[0.16998547, 0.08050855, 0.24309576, 0.50641023]]),\n",
       " array([[0.01050173, 0.5944783 , 0.37905571, 0.01596426]]),\n",
       " array([[0.47338145, 0.02454448, 0.47402381, 0.02805027]]),\n",
       " array([[0.03991346, 0.05932248, 0.13488015, 0.76588391]]),\n",
       " array([[0.32363558, 0.03908431, 0.50548237, 0.13179774]]),\n",
       " array([[0.1142189 , 0.08858075, 0.03318612, 0.76401422]]),\n",
       " array([[0.36758272, 0.28230737, 0.0004801 , 0.34962981]]),\n",
       " array([[0.28038329, 0.14695279, 0.12677928, 0.44588464]]),\n",
       " array([[0.20071928, 0.10149983, 0.01776489, 0.68001599]]),\n",
       " array([[0.06376579, 0.1512234 , 0.41208041, 0.3729304 ]]),\n",
       " array([[0.17771764, 0.64133284, 0.1339571 , 0.04699242]])]"
      ]
     },
     "execution_count": 12,
     "metadata": {},
     "output_type": "execute_result"
    }
   ],
   "source": [
    "\n",
    "with open('alpha_datas.pickle', 'wb') as handle:\n",
    "    pickle.dump(alpha_datas, handle, protocol=pickle.HIGHEST_PROTOCOL)\n",
    "\n",
    "with open('alpha_datas.pickle', 'rb') as handle:\n",
    "    b = pickle.load(handle)\n"
   ]
  },
  {
   "cell_type": "code",
   "execution_count": null,
   "metadata": {},
   "outputs": [],
   "source": []
  }
 ],
 "metadata": {
  "kernelspec": {
   "display_name": "Python 3",
   "language": "python",
   "name": "python3"
  },
  "language_info": {
   "codemirror_mode": {
    "name": "ipython",
    "version": 3
   },
   "file_extension": ".py",
   "mimetype": "text/x-python",
   "name": "python",
   "nbconvert_exporter": "python",
   "pygments_lexer": "ipython3",
   "version": "3.8.5"
  }
 },
 "nbformat": 4,
 "nbformat_minor": 4
}
