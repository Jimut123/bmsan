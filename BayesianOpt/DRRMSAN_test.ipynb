{
 "cells": [
  {
   "cell_type": "code",
   "execution_count": 2,
   "metadata": {},
   "outputs": [],
   "source": [
    "import numpy as np, numpy.random"
   ]
  },
  {
   "cell_type": "code",
   "execution_count": 8,
   "metadata": {},
   "outputs": [
    {
     "name": "stdout",
     "output_type": "stream",
     "text": [
      "case =  1   0.06 0.06 0.86 0.02\n",
      "1.0\n",
      "case =  2   0.73 0.11 0.11 0.05\n",
      "1.0\n",
      "case =  3   0.2 0.41 0.28 0.12\n",
      "1.01\n",
      "case =  4   0.35 0.1 0.24 0.31\n",
      "1.0\n",
      "case =  5   0.26 0.17 0.25 0.32\n",
      "1.0\n",
      "case =  6   0.36 0.18 0.07 0.39\n",
      "1.0\n",
      "case =  7   0.21 0.18 0.08 0.53\n",
      "1.0\n",
      "case =  8   0.15 0.57 0.14 0.14\n",
      "1.0\n",
      "case =  9   0.06 0.06 0.24 0.64\n",
      "1.0\n",
      "case =  10   0.04 0.85 0.04 0.06\n",
      "0.99\n",
      "case =  11   0.12 0.24 0.07 0.56\n",
      "0.99\n",
      "case =  12   0.44 0.1 0.09 0.37\n",
      "1.0\n",
      "case =  13   0.23 0.15 0.25 0.37\n",
      "1.0\n",
      "case =  14   0.26 0.25 0.34 0.15\n",
      "1.0\n",
      "case =  15   0.42 0.35 0.07 0.16\n",
      "1.0\n",
      "case =  16   0.09 0.36 0.37 0.18\n",
      "1.0\n",
      "case =  17   0.19 0.46 0.26 0.09\n",
      "1.0\n",
      "case =  18   0.08 0.07 0.02 0.84\n",
      "1.01\n",
      "case =  19   0.08 0.51 0.27 0.15\n",
      "1.01\n",
      "case =  20   0.05 0.21 0.18 0.56\n",
      "1.0\n"
     ]
    }
   ],
   "source": [
    "# Generating Cases\n",
    "\n",
    "for i in range(20):\n",
    "    alphas = np.random.dirichlet(np.ones(4),size=1)\n",
    "    print(\"case = \", i+1, \" \", float(\"%0.2f\" % (alphas[0][0])), \n",
    "          float(\"%0.2f\" % (alphas[0][1])), float(\"%0.2f\" % (alphas[0][2])), float(\"%0.2f\" % (alphas[0][3])))\n",
    "    print(float(\"%0.2f\" % (alphas[0][0]))+float(\"%0.2f\" % (alphas[0][1]))+float(\"%0.2f\" % (alphas[0][2]))+float(\"%0.2f\" % (alphas[0][3])))"
   ]
  },
  {
   "cell_type": "code",
   "execution_count": null,
   "metadata": {},
   "outputs": [],
   "source": [
    "# inp => alpha_1, alpha_2, alpha_3 and alpha_4 to the function \n",
    "# the function will return dice coef values, and we need to find \n",
    "# the alphas which maximizes the dice coef values."
   ]
  },
  {
   "cell_type": "code",
   "execution_count": null,
   "metadata": {},
   "outputs": [],
   "source": []
  },
  {
   "cell_type": "code",
   "execution_count": null,
   "metadata": {},
   "outputs": [],
   "source": []
  }
 ],
 "metadata": {
  "kernelspec": {
   "display_name": "Python 3",
   "language": "python",
   "name": "python3"
  },
  "language_info": {
   "codemirror_mode": {
    "name": "ipython",
    "version": 3
   },
   "file_extension": ".py",
   "mimetype": "text/x-python",
   "name": "python",
   "nbconvert_exporter": "python",
   "pygments_lexer": "ipython3",
   "version": "3.8.5"
  }
 },
 "nbformat": 4,
 "nbformat_minor": 4
}
