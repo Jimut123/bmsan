{
 "cells": [
  {
   "cell_type": "code",
   "execution_count": 1,
   "metadata": {},
   "outputs": [
    {
     "name": "stdout",
     "output_type": "stream",
     "text": [
      "Populating the interactive namespace from numpy and matplotlib\n"
     ]
    }
   ],
   "source": [
    "#Import Modules\n",
    "\n",
    "#GPyOpt - Cases are important, for some reason\n",
    "import GPyOpt\n",
    "from GPyOpt.methods import BayesianOptimization\n",
    "\n",
    "#numpy\n",
    "import numpy as np\n",
    "from numpy.random import multivariate_normal #For later example\n",
    "\n",
    "import pandas as pd\n",
    "\n",
    "#Plotting tools\n",
    "from mpl_toolkits.mplot3d import Axes3D\n",
    "import matplotlib.pyplot as plt\n",
    "from matplotlib import cm\n",
    "from matplotlib.ticker import LinearLocator, FormatStrFormatter\n",
    "import numpy as np\n",
    "from numpy.random import multivariate_normal\n",
    "\n",
    "# --- Load GPyOpt\n",
    "from GPyOpt.methods import BayesianOptimization\n",
    "%pylab inline\n",
    "import GPyOpt\n",
    "import GPy\n",
    "import numpy as np\n",
    "import pickle"
   ]
  },
  {
   "cell_type": "code",
   "execution_count": 2,
   "metadata": {},
   "outputs": [],
   "source": [
    "def f(x):\n",
    "    \"\"\"\n",
    "    x is a 4D vector.\n",
    "    Function which will send alpha_1, alpha_2, alpha_3 and alpha_4 \n",
    "    to the actual model and will get the dice coefficient in return.\n",
    "    \"\"\"\n",
    "    alpha_1 = x[:, 0][0]\n",
    "    alpha_2 = x[:, 1][0]\n",
    "    alpha_3 = x[:, 2][0]\n",
    "    alpha_4 = x[:, 3][0]\n",
    "    print(\"--------\",alpha_1,\" \",alpha_2,\" \",alpha_3,\" \",alpha_4)\n",
    "    print(alpha_1+alpha_2+alpha_3+alpha_4)\n",
    "    # Here we will send the alphas to the actual model and in return \n",
    "    # we will recieve the dice coefficient to optimise, since this is\n",
    "    # a maximization problem, we return the -ve of objective function\n",
    "    # to be maximized\n",
    "    dice_coef = alpha_1 + alpha_2 + alpha_3 + alpha_4\n",
    "    return -dice_coef\n",
    "\n",
    "domain = [{'name': 'alpha_1', 'type': 'continuous', 'domain': (0,1), 'dimensionality':1},\n",
    "          {'name': 'alpha_2', 'type': 'continuous', 'domain': (0,1), 'dimensionality':1},\n",
    "          {'name': 'alpha_3', 'type': 'continuous', 'domain': (0,1), 'dimensionality':1},\n",
    "          {'name': 'alpha_4', 'type': 'continuous', 'domain': (0,1), 'dimensionality':1}]\n",
    "\n",
    "constraints = [{'name': 'constr_1', 'constraint': '0.9999 - x[:,0] - x[:,1] - x[:,2] - x[:,3]'},\n",
    "               {'name': 'constr_1', 'constraint': '-1.00001 + x[:,0] + x[:,1] + x[:,2] + x[:,3]'}]"
   ]
  },
  {
   "cell_type": "code",
   "execution_count": null,
   "metadata": {},
   "outputs": [
    {
     "name": "stdout",
     "output_type": "stream",
     "text": [
      "-------- 0.1348731437600892   0.28774721642784773   0.17728851507938903   0.40002633332004944\n",
      "0.9999352085873754\n",
      "-------- 0.08907474674661886   0.3506100782226149   0.547990127914094   0.012261330167946505\n",
      "0.9999362830512742\n",
      "-------- 0.1433271411629392   0.44096770009929176   0.21076899772391977   0.20487400212846707\n",
      "0.9999378411146178\n",
      "-------- 0.22738028888660344   0.2401564373523133   0.07337406123544998   0.45900050693435845\n",
      "0.9999112944087252\n",
      "-------- 0.07963367215295292   0.6006327938954075   0.0331912558310653   0.28655052857550556\n",
      "1.0000082504549312\n"
     ]
    }
   ],
   "source": [
    "maxiter = 20\n",
    "\n",
    "kernel = GPy.kern.Matern52(input_dim=4, ARD=True, variance=1, lengthscale=[1,1,1,1]);\n",
    "\n",
    "myBopt_4d = GPyOpt.methods.BayesianOptimization(f, domain=domain, constraints = constraints,kernel=kernel,\n",
    "                                                acquisition_type ='EI', model_type='GP', verbosity=True,\n",
    "                                                acquisition_optimizer_type='lbfgs', cost_withGradients=None,\n",
    "                                                exact_feval=True)\n",
    "\n",
    "myBopt_4d.run_optimization(max_iter = maxiter, verbosity=True)\n",
    "print(\"=\"*20)\n",
    "print(\"Value of (x,y) that minimises the objective:\"+str(myBopt_4d.x_opt))    \n",
    "print(\"Minimum value of the objective: \"+str(myBopt_4d.fx_opt))     \n",
    "print(\"=\"*20)\n",
    "#myBopt_4d.plot_acquisition()"
   ]
  },
  {
   "cell_type": "code",
   "execution_count": null,
   "metadata": {},
   "outputs": [],
   "source": []
  }
 ],
 "metadata": {
  "kernelspec": {
   "display_name": "Python 3",
   "language": "python",
   "name": "python3"
  },
  "language_info": {
   "codemirror_mode": {
    "name": "ipython",
    "version": 3
   },
   "file_extension": ".py",
   "mimetype": "text/x-python",
   "name": "python",
   "nbconvert_exporter": "python",
   "pygments_lexer": "ipython3",
   "version": "3.8.5"
  }
 },
 "nbformat": 4,
 "nbformat_minor": 4
}
