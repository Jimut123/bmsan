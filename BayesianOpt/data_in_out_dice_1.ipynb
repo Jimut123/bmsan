{
 "cells": [
  {
   "cell_type": "code",
   "execution_count": 1,
   "metadata": {},
   "outputs": [
    {
     "name": "stdout",
     "output_type": "stream",
     "text": [
      "Populating the interactive namespace from numpy and matplotlib\n"
     ]
    }
   ],
   "source": [
    "#Import Modules\n",
    "\n",
    "#GPyOpt - Cases are important, for some reason\n",
    "import GPyOpt\n",
    "from GPyOpt.methods import BayesianOptimization\n",
    "\n",
    "#numpy\n",
    "import numpy as np\n",
    "from numpy.random import multivariate_normal #For later example\n",
    "\n",
    "import pandas as pd\n",
    "\n",
    "#Plotting tools\n",
    "from mpl_toolkits.mplot3d import Axes3D\n",
    "import matplotlib.pyplot as plt\n",
    "from matplotlib import cm\n",
    "from matplotlib.ticker import LinearLocator, FormatStrFormatter\n",
    "import numpy as np\n",
    "from numpy.random import multivariate_normal\n",
    "\n",
    "# --- Load GPyOpt\n",
    "from GPyOpt.methods import BayesianOptimization\n",
    "%pylab inline\n",
    "import GPyOpt\n",
    "import GPy\n",
    "import numpy as np\n",
    "import pickle"
   ]
  },
  {
   "cell_type": "code",
   "execution_count": 9,
   "metadata": {},
   "outputs": [],
   "source": [
    "def f(x):\n",
    "    \"\"\"\n",
    "    x is a 4D vector.\n",
    "    Function which will send alpha_1, alpha_2, alpha_3 and alpha_4 \n",
    "    to the actual model and will get the dice coefficient in return.\n",
    "    \"\"\"\n",
    "    alpha_1 = x[:, 0]\n",
    "    alpha_2 = x[:, 1]\n",
    "    alpha_3 = x[:, 2]\n",
    "    alpha_4 = x[:, 3]\n",
    "    print(\"--------\",alpha_1, \" \", alpha_2,\" \",alpha_3,\" \",alpha_4)\n",
    "    print(alpha_1+alpha_2+alpha_3+alpha_4)\n",
    "    # Here we will send the alphas to the actual model and in return \n",
    "    # we will recieve the dice coefficient to optimise, since this is\n",
    "    # a maximization problem, we return the -ve of objective function\n",
    "    # to be maximized\n",
    "    dice_coef = - alpha_1 - alpha_2 - alpha_3 - alpha_4\n",
    "    return -dice_coef\n",
    "\n",
    "domain = [{'name': 'alpha_1', 'type': 'continuous', 'domain': (0,1)},\n",
    "          {'name': 'alpha_2', 'type': 'continuous', 'domain': (0,1)},\n",
    "          {'name': 'alpha_3', 'type': 'continuous', 'domain': (0,1)},\n",
    "          {'name': 'alpha_4', 'type': 'continuous', 'domain': (0,1)}]\n",
    "\n",
    "constraints = [{'name': 'constr_1', 'constraint': '0.9999 - x[:,0] - x[:,1] - x[:,2] - x[:,3]'},\n",
    "               {'name': 'constr_1', 'constraint': '-1.00001 + x[:,0] + x[:,1] + x[:,2] + x[:,3]'}]"
   ]
  },
  {
   "cell_type": "code",
   "execution_count": null,
   "metadata": {},
   "outputs": [
    {
     "name": "stdout",
     "output_type": "stream",
     "text": [
      "-------- [0.00204874]   [0.37214225]   [0.4561271]   [0.16960923]\n",
      "[0.99992732]\n",
      "-------- [0.35371131]   [0.30371367]   [0.23227364]   [0.11021677]\n",
      "[0.99991539]\n",
      "-------- [0.30087907]   [0.15823873]   [0.46498416]   [0.07588272]\n",
      "[0.99998468]\n",
      "-------- [0.15424516]   [0.07030853]   [0.14154788]   [0.63389714]\n",
      "[0.99999872]\n",
      "-------- [0.23434863]   [0.11460694]   [0.65016749]   [0.00083502]\n",
      "[0.99995808]\n",
      "-------- [0.40624866]   [0.27300854]   [0.20700546]   [0.11365832]\n",
      "[0.99992098]\n",
      "num acquisition: 1, time elapsed: 116.81s\n"
     ]
    }
   ],
   "source": [
    "maxiter = 2\n",
    "\n",
    "myBopt_4d = GPyOpt.methods.BayesianOptimization(f, domain=domain, constraints = constraints)\n",
    "myBopt_4d.run_optimization(max_iter = maxiter, verbosity=True)\n",
    "print(\"=\"*20)\n",
    "print(\"Value of (x,y) that minimises the objective:\"+str(myBopt_4d.x_opt))    \n",
    "print(\"Minimum value of the objective: \"+str(myBopt_4d.fx_opt))     \n",
    "print(\"=\"*20)\n",
    "#myBopt_4d.plot_acquisition()"
   ]
  },
  {
   "cell_type": "code",
   "execution_count": null,
   "metadata": {},
   "outputs": [],
   "source": []
  }
 ],
 "metadata": {
  "kernelspec": {
   "display_name": "Python 3",
   "language": "python",
   "name": "python3"
  },
  "language_info": {
   "codemirror_mode": {
    "name": "ipython",
    "version": 3
   },
   "file_extension": ".py",
   "mimetype": "text/x-python",
   "name": "python",
   "nbconvert_exporter": "python",
   "pygments_lexer": "ipython3",
   "version": "3.8.5"
  }
 },
 "nbformat": 4,
 "nbformat_minor": 4
}
