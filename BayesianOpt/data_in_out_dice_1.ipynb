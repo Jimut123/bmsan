{
 "cells": [
  {
   "cell_type": "code",
   "execution_count": 102,
   "metadata": {},
   "outputs": [
    {
     "name": "stdout",
     "output_type": "stream",
     "text": [
      "Populating the interactive namespace from numpy and matplotlib\n"
     ]
    }
   ],
   "source": [
    "#Import Modules\n",
    "\n",
    "#GPyOpt - Cases are important, for some reason\n",
    "import GPyOpt\n",
    "from GPyOpt.methods import BayesianOptimization\n",
    "\n",
    "#numpy\n",
    "import numpy as np\n",
    "from numpy.random import multivariate_normal #For later example\n",
    "\n",
    "import pandas as pd\n",
    "\n",
    "#Plotting tools\n",
    "from mpl_toolkits.mplot3d import Axes3D\n",
    "import matplotlib.pyplot as plt\n",
    "from matplotlib import cm\n",
    "from matplotlib.ticker import LinearLocator, FormatStrFormatter\n",
    "import numpy as np\n",
    "from numpy.random import multivariate_normal\n",
    "\n",
    "# --- Load GPyOpt\n",
    "from GPyOpt.methods import BayesianOptimization\n",
    "%pylab inline\n",
    "import GPyOpt\n",
    "import GPy\n",
    "import numpy as np\n",
    "import pickle"
   ]
  },
  {
   "cell_type": "code",
   "execution_count": 103,
   "metadata": {},
   "outputs": [],
   "source": [
    "\n",
    "def f(x):\n",
    "    \"\"\"\n",
    "    x is a 4D vector.\n",
    "    Function which will send alpha_1, alpha_2, alpha_3 and alpha_4 \n",
    "    to the actual model and will get the dice coefficient in return.\n",
    "    \"\"\"\n",
    "    print(x)\n",
    "    alpha_1 = x[:, 0][0]\n",
    "    alpha_2 = x[:, 1][0]\n",
    "    alpha_3 = x[:, 2][0]\n",
    "    alpha_4 = x[:, 3][0]\n",
    "    print(\"--------\",alpha_1,\" \",alpha_2,\" \",alpha_3,\" \",alpha_4)\n",
    "    print(alpha_1+alpha_2+alpha_3+alpha_4)\n",
    "    # Here we will send the alphas to the actual model and in return \n",
    "    # we will recieve the dice coefficient to optimise, since this is\n",
    "    # a maximization problem, we return the -ve of objective function\n",
    "    # to be maximized\n",
    "    dice_coef = alpha_1 + alpha_2 + alpha_3 + alpha_4\n",
    "    return -dice_coef\n",
    "    \n",
    "\n",
    "domain = [{'name': 'alpha_1', 'type': 'continuous', 'domain': (0,1), 'dimensionality':1},\n",
    "          {'name': 'alpha_2', 'type': 'continuous', 'domain': (0,1), 'dimensionality':1},\n",
    "          {'name': 'alpha_3', 'type': 'continuous', 'domain': (0,1), 'dimensionality':1},\n",
    "          {'name': 'alpha_4', 'type': 'continuous', 'domain': (0,1), 'dimensionality':1}]\n",
    "\n",
    "constraints = [{'name': 'constr_1', 'constraint': '0.9999 - x[:,0] - x[:,1] - x[:,2] - x[:,3]'},\n",
    "               {'name': 'constr_1', 'constraint': '-1.00001 + x[:,0] + x[:,1] + x[:,2] + x[:,3]'}]"
   ]
  },
  {
   "cell_type": "code",
   "execution_count": null,
   "metadata": {},
   "outputs": [],
   "source": [
    "\n",
    "\n"
   ]
  },
  {
   "cell_type": "code",
   "execution_count": 104,
   "metadata": {},
   "outputs": [],
   "source": [
    "def load_entire_file_into_memory_and_then_convert(filename):\n",
    "    with open(filename, 'r') as input_file:\n",
    "        full_file_contents = input_file.read()\n",
    "        lines_of_file = full_file_contents.split('\\n')\n",
    "        return numpy.array(lines_of_file)"
   ]
  },
  {
   "cell_type": "code",
   "execution_count": 105,
   "metadata": {},
   "outputs": [
    {
     "data": {
      "text/plain": [
       "array(['0.27 0.02 0.24 0.46 0.9591403057086999 ',\n",
       "       '0.46 0.07 0.45 0.01 0.961725938544216 ',\n",
       "       '0.01 0.68 0.11 0.19 0.9603536723291805 ',\n",
       "       '0.16 0.1 0.5 0.23 0.9574356292382331 ',\n",
       "       '0.3 0.07 0.32 0.3 0.96022589174643 ',\n",
       "       '0.56 0.11 0.17 0.15 0.9410618600506602 ',\n",
       "       '0.05 0.35 0.44 0.15 0.9634017507224188 ',\n",
       "       '0.22 0.08 0.38 0.31 0.9628548115630068 ',\n",
       "       '0.03 0.0 0.66 0.3 0.9622572933875356 ',\n",
       "       '0.14 0.72 0.07 0.06 0.9585863531990674 ',\n",
       "       '0.11 0.15 0.45 0.28 0.9609590147859615 ',\n",
       "       '0.16 0.09 0.67 0.07 0.9597778140555175 ',\n",
       "       '0.71 0.09 0.16 0.03 0.9400787993283924 ',\n",
       "       '0.47 0.15 0.18 0.19 0.9410591567452614 ',\n",
       "       '0.17 0.02 0.5 0.3 0.9610975710221837 ',\n",
       "       '0.34 0.16 0.48 0.01 0.9576296326477832 ',\n",
       "       '0.06 0.76 0.14 0.03 0.9586400182737919 ',\n",
       "       '0.36 0.37 0.18 0.09 0.9576236969841502 ',\n",
       "       '0.42 0.19 0.31 0.08 0.9569187548826379 ',\n",
       "       '0.25 0.47 0.18 0.1 0.9580239398104423 ', ''], dtype='<U39')"
      ]
     },
     "execution_count": 105,
     "metadata": {},
     "output_type": "execute_result"
    }
   ],
   "source": [
    "dump = load_entire_file_into_memory_and_then_convert('store_alphas_dice.txt')\n",
    "dump"
   ]
  },
  {
   "cell_type": "code",
   "execution_count": 106,
   "metadata": {},
   "outputs": [],
   "source": [
    "X = []\n",
    "Y = []\n",
    "for item in dump[:-1]:\n",
    "    all_items = item.split(' ')\n",
    "    X.append([float(i) for i in all_items[:4]]) \n",
    "    Y.append(float(all_items[-2]))\n",
    "    "
   ]
  },
  {
   "cell_type": "code",
   "execution_count": 107,
   "metadata": {},
   "outputs": [
    {
     "data": {
      "text/plain": [
       "array([[0.27, 0.02, 0.24, 0.46],\n",
       "       [0.46, 0.07, 0.45, 0.01],\n",
       "       [0.01, 0.68, 0.11, 0.19],\n",
       "       [0.16, 0.1 , 0.5 , 0.23],\n",
       "       [0.3 , 0.07, 0.32, 0.3 ],\n",
       "       [0.56, 0.11, 0.17, 0.15],\n",
       "       [0.05, 0.35, 0.44, 0.15],\n",
       "       [0.22, 0.08, 0.38, 0.31],\n",
       "       [0.03, 0.  , 0.66, 0.3 ],\n",
       "       [0.14, 0.72, 0.07, 0.06],\n",
       "       [0.11, 0.15, 0.45, 0.28],\n",
       "       [0.16, 0.09, 0.67, 0.07],\n",
       "       [0.71, 0.09, 0.16, 0.03],\n",
       "       [0.47, 0.15, 0.18, 0.19],\n",
       "       [0.17, 0.02, 0.5 , 0.3 ],\n",
       "       [0.34, 0.16, 0.48, 0.01],\n",
       "       [0.06, 0.76, 0.14, 0.03],\n",
       "       [0.36, 0.37, 0.18, 0.09],\n",
       "       [0.42, 0.19, 0.31, 0.08],\n",
       "       [0.25, 0.47, 0.18, 0.1 ]])"
      ]
     },
     "execution_count": 107,
     "metadata": {},
     "output_type": "execute_result"
    }
   ],
   "source": [
    "X = numpy.array(X)\n",
    "X"
   ]
  },
  {
   "cell_type": "code",
   "execution_count": 108,
   "metadata": {},
   "outputs": [
    {
     "data": {
      "text/plain": [
       "(20, 4)"
      ]
     },
     "execution_count": 108,
     "metadata": {},
     "output_type": "execute_result"
    }
   ],
   "source": [
    "X.shape"
   ]
  },
  {
   "cell_type": "code",
   "execution_count": 109,
   "metadata": {},
   "outputs": [
    {
     "data": {
      "text/plain": [
       "array([-0.95914031, -0.96172594, -0.96035367, -0.95743563, -0.96022589,\n",
       "       -0.94106186, -0.96340175, -0.96285481, -0.96225729, -0.95858635,\n",
       "       -0.96095901, -0.95977781, -0.9400788 , -0.94105916, -0.96109757,\n",
       "       -0.95762963, -0.95864002, -0.9576237 , -0.95691875, -0.95802394])"
      ]
     },
     "execution_count": 109,
     "metadata": {},
     "output_type": "execute_result"
    }
   ],
   "source": [
    "Y = -numpy.array(Y)\n",
    "Y"
   ]
  },
  {
   "cell_type": "code",
   "execution_count": 112,
   "metadata": {},
   "outputs": [
    {
     "data": {
      "text/plain": [
       "(20, 1)"
      ]
     },
     "execution_count": 112,
     "metadata": {},
     "output_type": "execute_result"
    }
   ],
   "source": [
    "Y.shape"
   ]
  },
  {
   "cell_type": "code",
   "execution_count": 111,
   "metadata": {},
   "outputs": [
    {
     "data": {
      "text/plain": [
       "array([[-0.95914031],\n",
       "       [-0.96172594],\n",
       "       [-0.96035367],\n",
       "       [-0.95743563],\n",
       "       [-0.96022589],\n",
       "       [-0.94106186],\n",
       "       [-0.96340175],\n",
       "       [-0.96285481],\n",
       "       [-0.96225729],\n",
       "       [-0.95858635],\n",
       "       [-0.96095901],\n",
       "       [-0.95977781],\n",
       "       [-0.9400788 ],\n",
       "       [-0.94105916],\n",
       "       [-0.96109757],\n",
       "       [-0.95762963],\n",
       "       [-0.95864002],\n",
       "       [-0.9576237 ],\n",
       "       [-0.95691875],\n",
       "       [-0.95802394]])"
      ]
     },
     "execution_count": 111,
     "metadata": {},
     "output_type": "execute_result"
    }
   ],
   "source": [
    "Y = np.expand_dims(Y, axis=1)\n",
    "Y"
   ]
  },
  {
   "cell_type": "code",
   "execution_count": null,
   "metadata": {},
   "outputs": [],
   "source": [
    "Y.shape"
   ]
  },
  {
   "cell_type": "code",
   "execution_count": null,
   "metadata": {},
   "outputs": [],
   "source": []
  },
  {
   "cell_type": "code",
   "execution_count": 113,
   "metadata": {},
   "outputs": [
    {
     "name": "stdout",
     "output_type": "stream",
     "text": [
      "[[0.23070297 0.00674209 0.39912914 0.36343547]]\n",
      "-------- 0.23070296550728328   0.006742091006239273   0.39912914455401327   0.36343547111957786\n",
      "1.0000096721871137\n",
      "num acquisition: 1, time elapsed: 139.79s\n",
      "====================\n",
      "Value of (x,y) that minimises the objective:[0.23070297 0.00674209 0.39912914 0.36343547]\n",
      "Minimum value of the objective: -1.0000096721871137\n",
      "====================\n"
     ]
    }
   ],
   "source": [
    "maxiter = 1\n",
    "\n",
    "kernel = GPy.kern.Matern52(input_dim=4, ARD=True, variance=1, lengthscale=[1,1,1,1]);\n",
    "\n",
    "myBopt_4d = GPyOpt.methods.BayesianOptimization(f=f, X=X, Y=Y, domain=domain, constraints = constraints,\n",
    "                                                kernel=kernel, acquisition_type ='EI', model_type='GP', \n",
    "                                                verbosity=True, acquisition_optimizer_type='lbfgs', \n",
    "                                                cost_withGradients=None, exact_feval=True)\n",
    "\n",
    "myBopt_4d.run_optimization(max_iter = maxiter, verbosity=True)\n",
    "print(\"=\"*20)\n",
    "print(\"Value of (x,y) that minimises the objective:\"+str(myBopt_4d.x_opt))    \n",
    "print(\"Minimum value of the objective: \"+str(myBopt_4d.fx_opt))     \n",
    "print(\"=\"*20)\n",
    "#myBopt_4d.plot_acquisition()"
   ]
  },
  {
   "cell_type": "code",
   "execution_count": null,
   "metadata": {},
   "outputs": [],
   "source": []
  },
  {
   "cell_type": "code",
   "execution_count": 88,
   "metadata": {},
   "outputs": [
    {
     "data": {
      "text/plain": [
       "(6, 4)"
      ]
     },
     "execution_count": 88,
     "metadata": {},
     "output_type": "execute_result"
    }
   ],
   "source": [
    "myBopt_4d.X.shape"
   ]
  },
  {
   "cell_type": "code",
   "execution_count": 86,
   "metadata": {},
   "outputs": [
    {
     "data": {
      "text/plain": [
       "array([[-0.99990714],\n",
       "       [-0.99998241],\n",
       "       [-0.99992333],\n",
       "       [-0.99994381],\n",
       "       [-1.00000402],\n",
       "       [-0.99999817]])"
      ]
     },
     "execution_count": 86,
     "metadata": {},
     "output_type": "execute_result"
    }
   ],
   "source": [
    "myBopt_4d.Y"
   ]
  },
  {
   "cell_type": "code",
   "execution_count": null,
   "metadata": {},
   "outputs": [],
   "source": []
  }
 ],
 "metadata": {
  "kernelspec": {
   "display_name": "Python 3",
   "language": "python",
   "name": "python3"
  },
  "language_info": {
   "codemirror_mode": {
    "name": "ipython",
    "version": 3
   },
   "file_extension": ".py",
   "mimetype": "text/x-python",
   "name": "python",
   "nbconvert_exporter": "python",
   "pygments_lexer": "ipython3",
   "version": "3.7.7"
  }
 },
 "nbformat": 4,
 "nbformat_minor": 4
}
