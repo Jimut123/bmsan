{
 "cells": [
  {
   "cell_type": "code",
   "execution_count": 1,
   "metadata": {},
   "outputs": [
    {
     "name": "stdout",
     "output_type": "stream",
     "text": [
      "Populating the interactive namespace from numpy and matplotlib\n"
     ]
    }
   ],
   "source": [
    "#Import Modules\n",
    "\n",
    "#GPyOpt - Cases are important, for some reason\n",
    "import GPyOpt\n",
    "from GPyOpt.methods import BayesianOptimization\n",
    "\n",
    "#numpy\n",
    "import numpy as np\n",
    "from numpy.random import multivariate_normal #For later example\n",
    "\n",
    "import pandas as pd\n",
    "\n",
    "#Plotting tools\n",
    "from mpl_toolkits.mplot3d import Axes3D\n",
    "import matplotlib.pyplot as plt\n",
    "from matplotlib import cm\n",
    "from matplotlib.ticker import LinearLocator, FormatStrFormatter\n",
    "import numpy as np\n",
    "from numpy.random import multivariate_normal\n",
    "\n",
    "# --- Load GPyOpt\n",
    "from GPyOpt.methods import BayesianOptimization\n",
    "%pylab inline\n",
    "import GPyOpt\n",
    "import GPy\n",
    "import numpy as np\n",
    "import pickle"
   ]
  },
  {
   "cell_type": "code",
   "execution_count": 11,
   "metadata": {},
   "outputs": [],
   "source": [
    "count = 0\n",
    "def f(x):\n",
    "    \"\"\"\n",
    "    x is a 4D vector.\n",
    "    Function which will send alpha_1, alpha_2, alpha_3 and alpha_4 \n",
    "    to the actual model and will get the dice coefficient in return.\n",
    "    \"\"\"\n",
    "    global count\n",
    "    if count <= 4:\n",
    "        count += 1\n",
    "    else:\n",
    "        alpha_1 = x[:, 0][0]\n",
    "        alpha_2 = x[:, 1][0]\n",
    "        alpha_3 = x[:, 2][0]\n",
    "        alpha_4 = x[:, 3][0]\n",
    "        print(\"--------\",alpha_1,\" \",alpha_2,\" \",alpha_3,\" \",alpha_4)\n",
    "        print(alpha_1+alpha_2+alpha_3+alpha_4)\n",
    "        # Here we will send the alphas to the actual model and in return \n",
    "        # we will recieve the dice coefficient to optimise, since this is\n",
    "        # a maximization problem, we return the -ve of objective function\n",
    "        # to be maximized\n",
    "        dice_coef = alpha_1 + alpha_2 + alpha_3 + alpha_4\n",
    "        return -dice_coef\n",
    "    \n",
    "\n",
    "domain = [{'name': 'alpha_1', 'type': 'continuous', 'domain': (0,1), 'dimensionality':1},\n",
    "          {'name': 'alpha_2', 'type': 'continuous', 'domain': (0,1), 'dimensionality':1},\n",
    "          {'name': 'alpha_3', 'type': 'continuous', 'domain': (0,1), 'dimensionality':1},\n",
    "          {'name': 'alpha_4', 'type': 'continuous', 'domain': (0,1), 'dimensionality':1}]\n",
    "\n",
    "constraints = [{'name': 'constr_1', 'constraint': '0.9999 - x[:,0] - x[:,1] - x[:,2] - x[:,3]'},\n",
    "               {'name': 'constr_1', 'constraint': '-1.00001 + x[:,0] + x[:,1] + x[:,2] + x[:,3]'}]"
   ]
  },
  {
   "cell_type": "code",
   "execution_count": 13,
   "metadata": {},
   "outputs": [
    {
     "name": "stdout",
     "output_type": "stream",
     "text": [
      "-------- 0.05844406468346608   0.44706208893861255   0.0643691011272225   0.4300821271878964\n",
      "0.9999573819371975\n",
      "-------- 0.6791705243814913   0.035872294937333904   0.17818789716383776   0.10669132652747515\n",
      "0.9999220430101381\n",
      "-------- 0.38155234731920706   0.03149247454458459   0.46041232001348553   0.12650238966178784\n",
      "0.999959531539065\n",
      "-------- 0.178628031271445   0.21025963591282515   0.1043323549974079   0.5067499552301288\n",
      "0.9999699774118068\n",
      "-------- 0.23334014866265707   0.1594766202235699   0.31656657162623925   0.2905642622247905\n",
      "0.9999476027372567\n",
      "-------- 0.15504315823556616   0.11208993928945003   0.12584705657755876   0.6069198459960822\n",
      "0.9999000000986571\n",
      "num acquisition: 1, time elapsed: 129.03s\n",
      "-------- 0.050164330220369084   0.3784739998011605   0.0832029053539188   0.4881650103610808\n",
      "1.000006245736529\n",
      "num acquisition: 2, time elapsed: 248.42s\n",
      "-------- 0.19611780435440967   0.2196513986003947   0.07851049215391905   0.5056212704084831\n",
      "0.9999009655172065\n",
      "num acquisition: 3, time elapsed: 376.95s\n",
      "-------- 0.0479134325135477   0.5040634871155939   0.3417575343292016   0.10617051227456879\n",
      "0.9999049662329119\n",
      "num acquisition: 4, time elapsed: 501.28s\n",
      "-------- 0.050660916820185455   0.8108284740723558   0.05817356233882074   0.08034528250679888\n",
      "1.000008235738161\n",
      "num acquisition: 5, time elapsed: 626.29s\n",
      "====================\n",
      "Value of (x,y) that minimises the objective:[0.05066092 0.81082847 0.05817356 0.08034528]\n",
      "Minimum value of the objective: -1.000008235738161\n",
      "====================\n"
     ]
    }
   ],
   "source": [
    "maxiter = 5\n",
    "\n",
    "kernel = GPy.kern.Matern52(input_dim=4, ARD=True, variance=1, lengthscale=[1,1,1,1]);\n",
    "\n",
    "myBopt_4d = GPyOpt.methods.BayesianOptimization(f, domain=domain, constraints = constraints,kernel=kernel,\n",
    "                                                acquisition_type ='EI', model_type='GP', verbosity=True,\n",
    "                                                acquisition_optimizer_type='lbfgs', cost_withGradients=None,\n",
    "                                                exact_feval=True)\n",
    "\n",
    "myBopt_4d.run_optimization(max_iter = maxiter, verbosity=True)\n",
    "print(\"=\"*20)\n",
    "print(\"Value of (x,y) that minimises the objective:\"+str(myBopt_4d.x_opt))    \n",
    "print(\"Minimum value of the objective: \"+str(myBopt_4d.fx_opt))     \n",
    "print(\"=\"*20)\n",
    "#myBopt_4d.plot_acquisition()"
   ]
  },
  {
   "cell_type": "code",
   "execution_count": null,
   "metadata": {},
   "outputs": [],
   "source": []
  }
 ],
 "metadata": {
  "kernelspec": {
   "display_name": "Python 3",
   "language": "python",
   "name": "python3"
  },
  "language_info": {
   "codemirror_mode": {
    "name": "ipython",
    "version": 3
   },
   "file_extension": ".py",
   "mimetype": "text/x-python",
   "name": "python",
   "nbconvert_exporter": "python",
   "pygments_lexer": "ipython3",
   "version": "3.8.5"
  }
 },
 "nbformat": 4,
 "nbformat_minor": 4
}
