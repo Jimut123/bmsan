{
 "cells": [
  {
   "cell_type": "code",
   "execution_count": null,
   "metadata": {},
   "outputs": [],
   "source": [
    "#Import Modules\n",
    "\n",
    "#GPyOpt - Cases are important, for some reason\n",
    "import GPyOpt\n",
    "from GPyOpt.methods import BayesianOptimization\n",
    "\n",
    "#numpy\n",
    "import numpy as np\n",
    "from numpy.random import multivariate_normal #For later example\n",
    "\n",
    "import pandas as pd\n",
    "\n",
    "#Plotting tools\n",
    "from mpl_toolkits.mplot3d import Axes3D\n",
    "import matplotlib.pyplot as plt\n",
    "from matplotlib import cm\n",
    "from matplotlib.ticker import LinearLocator, FormatStrFormatter\n",
    "import numpy as np\n",
    "from numpy.random import multivariate_normal\n",
    "\n",
    "# --- Load GPyOpt\n",
    "from GPyOpt.methods import BayesianOptimization\n",
    "%pylab inline\n",
    "import GPyOpt\n",
    "import GPy\n",
    "import numpy as np\n",
    "import pickle"
   ]
  },
  {
   "cell_type": "code",
   "execution_count": null,
   "metadata": {},
   "outputs": [],
   "source": [
    "def f(x):\n",
    "    \"\"\"\n",
    "    x is a 4D vector.http://localhost:8889/notebooks/BayesianOpt/data_in_out_dice.ipynb#\n",
    "    Function which will send alpha_1, alpha_2, alpha_3 and alpha_4 \n",
    "    to the actual model and will get the dice coefficient in return.\n",
    "    \"\"\"\n",
    "    alpha_1 = x[:, 0]\n",
    "    alpha_2 = x[:, 1]\n",
    "    alpha_3 = x[:, 2]\n",
    "    alpha_4 = x[:, 3]\n",
    "    print(alpha_1, \" \", alpha_2,\" \",alpha_3,\" \",alpha_4)\n",
    "    # Here we will send the alphas to the actual model and in return \n",
    "    # we will recieve the dice coefficient to optimise, since this is\n",
    "    # a maximization problem, we return the -ve of objective function\n",
    "    # to be maximized\n",
    "    dice_coef = get_dice_coef(alpha_1, alpha_2, alpha_3, alpha_4)\n",
    "    return -dice_coef\n",
    "\n",
    "domain = [{'name': 'alpha_1', 'type': 'continuous', 'domain': (0,1)},\n",
    "          {'name': 'alpha_2', 'type': 'continuous', 'domain': (0,1)},\n",
    "          {'name': 'alpha_3', 'type': 'continuous', 'domain': (0,1)},\n",
    "          {'name': 'alpha_4', 'type': 'continuous', 'domain': (0,1)}]\n",
    "\n",
    "constraints = [{'name': 'constr_1', 'constraint': '0.9999 - x[:,0] - x[:,1] - x[:,2] - x[:,3]'},\n",
    "               {'name': 'constr_1', 'constraint': '-1.00001 + x[:,0] + x[:,1] + x[:,2] + x[:,3]'}]\n"
   ]
  },
  {
   "cell_type": "code",
   "execution_count": null,
   "metadata": {},
   "outputs": [],
   "source": [
    "# file = open('sample_data.txt','r')\n",
    "# content = file.read().splitlines()\n",
    "# file.close()\n",
    "\n",
    "# # you may also want to remove whitespace characters like `\\n` at the end of each line\n",
    "# content = [x.strip() for x in content]\n",
    "# alpha_1_list = []\n",
    "# alpha_2_list = []\n",
    "# alpha_3_list = []\n",
    "# alpha_4_list = []\n",
    "# dice_list = []\n",
    "# for i in content:\n",
    "#     #alphas = np.random.dirichlet(np.ones(4),size=1)\n",
    "#     #print(\"case = \", i+1, \" \", alphas[0][0], alphas[0][1], alphas[0][2], alphas[0][3])\n",
    "#     line_i = i.split(' ')\n",
    "#     #print(line_i)\n",
    "#     if len(line_i) > 1:\n",
    "#         alpha_1_list.append(float(line_i[0]))\n",
    "#         alpha_2_list.append(float(line_i[1]))\n",
    "#         alpha_3_list.append(float(line_i[2]))\n",
    "#         alpha_4_list.append(float(line_i[3]))\n",
    "#         dice_list.append(float(line_i[4]))\n",
    "# alpha_1_np = np.array(alpha_1_list)\n",
    "# alpha_2_np = np.array(alpha_2_list)\n",
    "# alpha_3_np = np.array(alpha_3_list)\n",
    "# alpha_4_np = np.array(alpha_4_list)\n",
    "# alpha_1, alpha_2, alpha_3, alpha_4 = np.meshgrid(alpha_1_np, alpha_2_np, alpha_3_np, alpha_4_np)"
   ]
  },
  {
   "cell_type": "code",
   "execution_count": null,
   "metadata": {},
   "outputs": [],
   "source": [
    "alpha_1_list = []\n",
    "alpha_2_list = []\n",
    "alpha_3_list = []\n",
    "alpha_4_list = []\n",
    "for i in range(20):\n",
    "    alphas = np.random.dirichlet(np.ones(4),size=1)\n",
    "    #print(\"case = \", i+1, \" \", alphas[0][0], alphas[0][1], alphas[0][2], alphas[0][3])\n",
    "    alpha_1_list.append(alphas[0][0])\n",
    "    alpha_2_list.append(alphas[0][1])\n",
    "    alpha_3_list.append(alphas[0][2])\n",
    "    alpha_4_list.append(alphas[0][3])\n",
    "alpha_1_np = np.array(alpha_1_list)\n",
    "alpha_2_np = np.array(alpha_2_list)\n",
    "alpha_3_np = np.array(alpha_3_list)\n",
    "alpha_4_np = np.array(alpha_4_list)\n",
    "alpha_1, alpha_2, alpha_3, alpha_4 = np.meshgrid(alpha_1_np, alpha_2_np, alpha_3_np, alpha_4_np)"
   ]
  },
  {
   "cell_type": "code",
   "execution_count": null,
   "metadata": {},
   "outputs": [],
   "source": [
    "# from mpl_toolkits.mplot3d import Axes3D\n",
    "# import matplotlib.pyplot as plt\n",
    "# import numpy as np\n",
    "\n",
    "# fig = plt.figure()\n",
    "# ax = fig.add_subplot(111, projection='3d')\n",
    "\n",
    "# img = ax.scatter(alpha_1, alpha_2, alpha_3, c=alpha_4, cmap=plt.hot())\n",
    "# fig.colorbar(img)\n",
    "# plt.show()"
   ]
  },
  {
   "cell_type": "code",
   "execution_count": null,
   "metadata": {},
   "outputs": [],
   "source": [
    "maxiter = 50\n",
    "\n",
    "myBopt_4d = GPyOpt.methods.BayesianOptimization(f, domain=domain)\n",
    "myBopt_4d.run_optimization(max_iter = maxiter, verbosity=True)\n",
    "print(\"=\"*20)\n",
    "print(\"Value of (x,y) that minimises the objective:\"+str(myBopt_4d.x_opt))    \n",
    "print(\"Minimum value of the objective: \"+str(myBopt_4d.fx_opt))     \n",
    "print(\"=\"*20)\n",
    "#myBopt_4d.plot_acquisition()"
   ]
  },
  {
   "cell_type": "code",
   "execution_count": null,
   "metadata": {},
   "outputs": [],
   "source": [
    "Bopt_out = open('Bopt_results.pickle', 'wb');\n",
    "pickle.dump(myBopt_4d, Bopt_out);     \n",
    "Bopt_out.close();"
   ]
  },
  {
   "cell_type": "code",
   "execution_count": null,
   "metadata": {},
   "outputs": [],
   "source": []
  },
  {
   "cell_type": "code",
   "execution_count": null,
   "metadata": {},
   "outputs": [],
   "source": []
  }
 ],
 "metadata": {
  "kernelspec": {
   "display_name": "Python 3",
   "language": "python",
   "name": "python3"
  },
  "language_info": {
   "codemirror_mode": {
    "name": "ipython",
    "version": 3
   },
   "file_extension": ".py",
   "mimetype": "text/x-python",
   "name": "python",
   "nbconvert_exporter": "python",
   "pygments_lexer": "ipython3",
   "version": "3.8.5"
  }
 },
 "nbformat": 4,
 "nbformat_minor": 4
}
