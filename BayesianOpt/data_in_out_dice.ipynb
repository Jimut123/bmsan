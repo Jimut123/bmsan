{
 "cells": [
  {
   "cell_type": "code",
   "execution_count": 1,
   "metadata": {},
   "outputs": [
    {
     "name": "stdout",
     "output_type": "stream",
     "text": [
      "Populating the interactive namespace from numpy and matplotlib\n"
     ]
    }
   ],
   "source": [
    "#Import Modules\n",
    "\n",
    "#GPyOpt - Cases are important, for some reason\n",
    "import GPyOpt\n",
    "from GPyOpt.methods import BayesianOptimization\n",
    "\n",
    "#numpy\n",
    "import numpy as np\n",
    "from numpy.random import multivariate_normal #For later example\n",
    "\n",
    "import pandas as pd\n",
    "\n",
    "#Plotting tools\n",
    "from mpl_toolkits.mplot3d import Axes3D\n",
    "import matplotlib.pyplot as plt\n",
    "from matplotlib import cm\n",
    "from matplotlib.ticker import LinearLocator, FormatStrFormatter\n",
    "import numpy as np\n",
    "from numpy.random import multivariate_normal\n",
    "\n",
    "# --- Load GPyOpt\n",
    "from GPyOpt.methods import BayesianOptimization\n",
    "%pylab inline\n",
    "import GPyOpt\n",
    "import GPy\n",
    "import numpy as np\n",
    "import pickle"
   ]
  },
  {
   "cell_type": "code",
   "execution_count": 8,
   "metadata": {},
   "outputs": [],
   "source": [
    "def f(x):\n",
    "    \"\"\"\n",
    "    x is a 4D vector.http://localhost:8889/notebooks/BayesianOpt/data_in_out_dice.ipynb#\n",
    "    Function which will send alpha_1, alpha_2, alpha_3 and alpha_4 \n",
    "    to the actual model and will get the dice coefficient in return.\n",
    "    \"\"\"\n",
    "    alpha_1 = x[:, 0]\n",
    "    alpha_2 = x[:, 1]\n",
    "    alpha_3 = x[:, 2]\n",
    "    alpha_4 = x[:, 3]\n",
    "    print(alpha_1, \" \", alpha_2,\" \",alpha_3,\" \",alpha_4)\n",
    "    # Here we will send the alphas to the actual model and in return \n",
    "    # we will recieve the dice coefficient to optimise, since this is\n",
    "    # a maximization problem, we return the -ve of objective function\n",
    "    # to be maximized\n",
    "    dice_coef = - alpha_1 - alpha_2 - alpha_3 - alpha_4\n",
    "    return -dice_coef\n",
    "\n",
    "domain = [{'name': 'alpha_1', 'type': 'continuous', 'domain': (0,1)},\n",
    "          {'name': 'alpha_2', 'type': 'continuous', 'domain': (0,1)},\n",
    "          {'name': 'alpha_3', 'type': 'continuous', 'domain': (0,1)},\n",
    "          {'name': 'alpha_4', 'type': 'continuous', 'domain': (0,1)}]\n",
    "\n",
    "constraints = [{'name': 'constr_1', 'constraint': '0.9999 - x[:,0] - x[:,1] - x[:,2] - x[:,3]'},\n",
    "               {'name': 'constr_1', 'constraint': '-1.00001 + x[:,0] + x[:,1] + x[:,2] + x[:,3]'}]\n"
   ]
  },
  {
   "cell_type": "code",
   "execution_count": 9,
   "metadata": {},
   "outputs": [],
   "source": [
    "# file = open('sample_data.txt','r')\n",
    "# content = file.read().splitlines()\n",
    "# file.close()\n",
    "\n",
    "# # you may also want to remove whitespace characters like `\\n` at the end of each line\n",
    "# content = [x.strip() for x in content]\n",
    "# alpha_1_list = []\n",
    "# alpha_2_list = []\n",
    "# alpha_3_list = []\n",
    "# alpha_4_list = []\n",
    "# dice_list = []\n",
    "# for i in content:\n",
    "#     #alphas = np.random.dirichlet(np.ones(4),size=1)\n",
    "#     #print(\"case = \", i+1, \" \", alphas[0][0], alphas[0][1], alphas[0][2], alphas[0][3])\n",
    "#     line_i = i.split(' ')\n",
    "#     #print(line_i)\n",
    "#     if len(line_i) > 1:\n",
    "#         alpha_1_list.append(float(line_i[0]))\n",
    "#         alpha_2_list.append(float(line_i[1]))\n",
    "#         alpha_3_list.append(float(line_i[2]))\n",
    "#         alpha_4_list.append(float(line_i[3]))\n",
    "#         dice_list.append(float(line_i[4]))\n",
    "# alpha_1_np = np.array(alpha_1_list)\n",
    "# alpha_2_np = np.array(alpha_2_list)\n",
    "# alpha_3_np = np.array(alpha_3_list)\n",
    "# alpha_4_np = np.array(alpha_4_list)\n",
    "# alpha_1, alpha_2, alpha_3, alpha_4 = np.meshgrid(alpha_1_np, alpha_2_np, alpha_3_np, alpha_4_np)"
   ]
  },
  {
   "cell_type": "code",
   "execution_count": 10,
   "metadata": {},
   "outputs": [],
   "source": [
    "alpha_1_list = []\n",
    "alpha_2_list = []\n",
    "alpha_3_list = []\n",
    "alpha_4_list = []\n",
    "for i in range(20):\n",
    "    alphas = np.random.dirichlet(np.ones(4),size=1)\n",
    "    #print(\"case = \", i+1, \" \", alphas[0][0], alphas[0][1], alphas[0][2], alphas[0][3])\n",
    "    alpha_1_list.append(alphas[0][0])\n",
    "    alpha_2_list.append(alphas[0][1])\n",
    "    alpha_3_list.append(alphas[0][2])\n",
    "    alpha_4_list.append(alphas[0][3])\n",
    "alpha_1_np = np.array(alpha_1_list)\n",
    "alpha_2_np = np.array(alpha_2_list)\n",
    "alpha_3_np = np.array(alpha_3_list)\n",
    "alpha_4_np = np.array(alpha_4_list)\n",
    "alpha_1, alpha_2, alpha_3, alpha_4 = np.meshgrid(alpha_1_np, alpha_2_np, alpha_3_np, alpha_4_np)"
   ]
  },
  {
   "cell_type": "code",
   "execution_count": 11,
   "metadata": {},
   "outputs": [],
   "source": [
    "# from mpl_toolkits.mplot3d import Axes3D\n",
    "# import matplotlib.pyplot as plt\n",
    "# import numpy as np\n",
    "\n",
    "# fig = plt.figure()\n",
    "# ax = fig.add_subplot(111, projection='3d')\n",
    "\n",
    "# img = ax.scatter(alpha_1, alpha_2, alpha_3, c=alpha_4, cmap=plt.hot())\n",
    "# fig.colorbar(img)\n",
    "# plt.show()"
   ]
  },
  {
   "cell_type": "code",
   "execution_count": null,
   "metadata": {},
   "outputs": [
    {
     "name": "stdout",
     "output_type": "stream",
     "text": [
      "[0.71562704]   [0.35914851]   [0.50672459]   [0.55522836]\n",
      "[0.42741371]   [0.7909965]   [0.11772127]   [0.60113593]\n",
      "[0.90926378]   [0.45785328]   [0.30538586]   [0.90563554]\n",
      "[0.64304019]   [0.76633887]   [0.38532498]   [0.60774133]\n",
      "[0.96272403]   [0.62140315]   [0.1289091]   [0.43377674]\n",
      "[0.42388497]   [0.79482568]   [0.11105571]   [0.59809045]\n",
      "num acquisition: 1, time elapsed: 0.93s\n",
      "[0.32075971]   [0.78116579]   [0.00512878]   [0.58564882]\n",
      "num acquisition: 2, time elapsed: 4.05s\n",
      "[0.]   [0.]   [0.]   [0.]\n",
      "num acquisition: 3, time elapsed: 5.04s\n",
      "[0.40823438]   [0.46662876]   [0.9716348]   [0.92832055]\n",
      "num acquisition: 4, time elapsed: 5.65s\n",
      "[0.43666103]   [0.96137591]   [0.48714298]   [0.82542673]\n",
      "num acquisition: 5, time elapsed: 6.52s\n",
      "[0.67097721]   [0.49679501]   [0.78924194]   [0.22147159]\n",
      "num acquisition: 6, time elapsed: 7.36s\n",
      "[0.80026065]   [0.74060329]   [0.20019636]   [0.43470074]\n",
      "num acquisition: 7, time elapsed: 8.25s\n",
      "[0.03708983]   [0.29864078]   [0.22672684]   [0.06995581]\n",
      "num acquisition: 8, time elapsed: 9.91s\n",
      "[0.0932088]   [0.85780393]   [0.93382258]   [0.92514065]\n",
      "num acquisition: 9, time elapsed: 10.99s\n",
      "[0.5406772]   [0.19943029]   [0.04146467]   [0.86063465]\n",
      "num acquisition: 10, time elapsed: 12.20s\n",
      "[0.74914302]   [0.51076433]   [0.39437367]   [0.60628059]\n",
      "num acquisition: 11, time elapsed: 13.02s\n",
      "[0.88633438]   [0.44005488]   [0.05589552]   [0.5825856]\n",
      "num acquisition: 12, time elapsed: 13.90s\n",
      "[0.15722166]   [0.76159803]   [0.59104357]   [0.75084069]\n",
      "num acquisition: 13, time elapsed: 15.72s\n",
      "[0.86032177]   [0.44806042]   [0.49992841]   [0.9037995]\n",
      "num acquisition: 14, time elapsed: 18.43s\n",
      "[0.19616625]   [0.60319279]   [0.44067001]   [0.22793475]\n",
      "num acquisition: 15, time elapsed: 19.92s\n",
      "[0.58769916]   [0.88618811]   [0.20585447]   [0.68098046]\n",
      "num acquisition: 16, time elapsed: 22.10s\n",
      "[0.97537398]   [0.71580624]   [0.05082145]   [0.26831898]\n",
      "num acquisition: 17, time elapsed: 23.56s\n",
      "[0.11310835]   [0.33963468]   [0.0562834]   [0.36602941]\n",
      "num acquisition: 18, time elapsed: 25.16s\n",
      "[0.11440451]   [0.10286604]   [0.37195453]   [0.21407396]\n",
      "num acquisition: 19, time elapsed: 26.71s\n",
      "[0.81699525]   [0.49639866]   [0.06164185]   [0.81045551]\n",
      "num acquisition: 20, time elapsed: 29.02s\n",
      "[0.50100171]   [0.52270905]   [0.78199849]   [0.16510442]\n",
      "num acquisition: 21, time elapsed: 30.51s\n",
      "[0.09452882]   [0.00111039]   [0.62611409]   [0.7780465]\n",
      "num acquisition: 22, time elapsed: 32.63s\n",
      "[0.43881205]   [0.8802569]   [0.58241969]   [0.44063933]\n",
      "num acquisition: 23, time elapsed: 34.42s\n",
      "[0.1703377]   [0.99677815]   [0.32888475]   [0.25400751]\n",
      "num acquisition: 24, time elapsed: 36.11s\n",
      "[0.89310363]   [0.72426637]   [0.41948202]   [0.03328339]\n",
      "num acquisition: 25, time elapsed: 37.66s\n",
      "[0.64012807]   [0.84356916]   [0.53805819]   [0.50026385]\n",
      "num acquisition: 26, time elapsed: 39.62s\n",
      "[0.57427607]   [0.6635689]   [0.88683231]   [0.08848908]\n",
      "num acquisition: 27, time elapsed: 41.32s\n",
      "[0.31434956]   [0.83869856]   [0.35616888]   [0.41145653]\n",
      "num acquisition: 28, time elapsed: 43.79s\n"
     ]
    }
   ],
   "source": [
    "maxiter = 50\n",
    "\n",
    "myBopt_4d = GPyOpt.methods.BayesianOptimization(f, domain=domain)\n",
    "myBopt_4d.run_optimization(max_iter = maxiter, verbosity=True)\n",
    "print(\"=\"*20)\n",
    "print(\"Value of (x,y) that minimises the objective:\"+str(myBopt_4d.x_opt))    \n",
    "print(\"Minimum value of the objective: \"+str(myBopt_4d.fx_opt))     \n",
    "print(\"=\"*20)\n",
    "#myBopt_4d.plot_acquisition()"
   ]
  },
  {
   "cell_type": "code",
   "execution_count": null,
   "metadata": {},
   "outputs": [],
   "source": [
    "Bopt_out = open('Bopt_results.pickle', 'wb');\n",
    "pickle.dump(myBopt_4d, Bopt_out);     \n",
    "Bopt_out.close();"
   ]
  },
  {
   "cell_type": "code",
   "execution_count": null,
   "metadata": {},
   "outputs": [],
   "source": []
  },
  {
   "cell_type": "code",
   "execution_count": null,
   "metadata": {},
   "outputs": [],
   "source": []
  }
 ],
 "metadata": {
  "kernelspec": {
   "display_name": "Python 3",
   "language": "python",
   "name": "python3"
  },
  "language_info": {
   "codemirror_mode": {
    "name": "ipython",
    "version": 3
   },
   "file_extension": ".py",
   "mimetype": "text/x-python",
   "name": "python",
   "nbconvert_exporter": "python",
   "pygments_lexer": "ipython3",
   "version": "3.8.5"
  }
 },
 "nbformat": 4,
 "nbformat_minor": 4
}
